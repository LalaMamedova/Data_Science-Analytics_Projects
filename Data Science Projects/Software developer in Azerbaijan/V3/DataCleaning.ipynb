{
  "cells": [
    {
      "cell_type": "code",
      "execution_count": 75,
      "metadata": {
        "id": "AexB7KDg-LHS"
      },
      "outputs": [],
      "source": [
        "import pandas as pd\n",
        "import numpy as np\n",
        "\n",
        "import matplotlib.pyplot as plt\n",
        "import matplotlib as mlp\n",
        "import seaborn as sns\n",
        "\n",
        "from collections import Counter\n",
        "from itertools import combinations\n",
        "mlp.rcParams[\"figure.figsize\"] = [18,8]"
      ]
    },
    {
      "cell_type": "code",
      "execution_count": 76,
      "metadata": {
        "colab": {
          "base_uri": "https://localhost:8080/",
          "height": 431
        },
        "id": "avvSclZC-LHT",
        "outputId": "9b966f71-07ab-4ab0-ce56-9db6ab5f782a"
      },
      "outputs": [
        {
          "data": {
            "text/html": [
              "<div>\n",
              "<style scoped>\n",
              "    .dataframe tbody tr th:only-of-type {\n",
              "        vertical-align: middle;\n",
              "    }\n",
              "\n",
              "    .dataframe tbody tr th {\n",
              "        vertical-align: top;\n",
              "    }\n",
              "\n",
              "    .dataframe thead th {\n",
              "        text-align: right;\n",
              "    }\n",
              "</style>\n",
              "<table border=\"1\" class=\"dataframe\">\n",
              "  <thead>\n",
              "    <tr style=\"text-align: right;\">\n",
              "      <th></th>\n",
              "      <th>Unnamed: 0</th>\n",
              "      <th>Name</th>\n",
              "      <th>Url to Vacancy</th>\n",
              "      <th>Company</th>\n",
              "      <th>Location</th>\n",
              "      <th>Type of Employment</th>\n",
              "      <th>Age category</th>\n",
              "      <th>Education degree</th>\n",
              "      <th>Salary</th>\n",
              "      <th>Posting Date</th>\n",
              "      <th>Deadline Date</th>\n",
              "      <th>Skills</th>\n",
              "    </tr>\n",
              "  </thead>\n",
              "  <tbody>\n",
              "    <tr>\n",
              "      <th>0</th>\n",
              "      <td>0</td>\n",
              "      <td>Mobil tətbiq üzrə məhsul mütəxəssisi</td>\n",
              "      <td>https://busy.az/vacancy/132205/mobil-tetbiq-uz...</td>\n",
              "      <td>189 Taxi</td>\n",
              "      <td>Bakı</td>\n",
              "      <td>Tam ştat (full time)</td>\n",
              "      <td>NaN</td>\n",
              "      <td>Ali</td>\n",
              "      <td>Razılaşma yolu ilə</td>\n",
              "      <td>04.07.2024</td>\n",
              "      <td>18.07.2024</td>\n",
              "      <td>['software development', 'programming', 'mobil...</td>\n",
              "    </tr>\n",
              "    <tr>\n",
              "      <th>1</th>\n",
              "      <td>1</td>\n",
              "      <td>Senior Backend Developer</td>\n",
              "      <td>https://busy.az/vacancy/132086/senior-backend-...</td>\n",
              "      <td>Ferrum Capital</td>\n",
              "      <td>Bakı</td>\n",
              "      <td>Tam ştat (full time)</td>\n",
              "      <td>NaN</td>\n",
              "      <td>NaN</td>\n",
              "      <td>Razılaşma yolu ilə</td>\n",
              "      <td>03.07.2024</td>\n",
              "      <td>17.07.2024</td>\n",
              "      <td>['Oracle', 'T-SQL', 'OOP', 'back-end developme...</td>\n",
              "    </tr>\n",
              "    <tr>\n",
              "      <th>2</th>\n",
              "      <td>2</td>\n",
              "      <td>Proqramlaşdırma İdarəsinin Tətbiqi proqramlaşd...</td>\n",
              "      <td>https://busy.az/vacancy/132034/proqramlasdirma...</td>\n",
              "      <td>Xalq Bank</td>\n",
              "      <td>Bakı</td>\n",
              "      <td>Tam ştat (full time)</td>\n",
              "      <td>NaN</td>\n",
              "      <td>NaN</td>\n",
              "      <td>Razılaşma yolu ilə</td>\n",
              "      <td>03.07.2024</td>\n",
              "      <td>17.07.2024</td>\n",
              "      <td>['SQL', 'back-end development', 'programming',...</td>\n",
              "    </tr>\n",
              "    <tr>\n",
              "      <th>3</th>\n",
              "      <td>3</td>\n",
              "      <td>Mid IOS Developer</td>\n",
              "      <td>https://busy.az/vacancy/132014/mid-ios-developer</td>\n",
              "      <td>Golden Pay</td>\n",
              "      <td>Bakı</td>\n",
              "      <td>Tam ştat (full time)</td>\n",
              "      <td>NaN</td>\n",
              "      <td>NaN</td>\n",
              "      <td>Razılaşma yolu ilə</td>\n",
              "      <td>03.07.2024</td>\n",
              "      <td>17.07.2024</td>\n",
              "      <td>['proqramlaşdırma', 'iOS development', 'progra...</td>\n",
              "    </tr>\n",
              "    <tr>\n",
              "      <th>4</th>\n",
              "      <td>4</td>\n",
              "      <td>IOS Developer (middle)</td>\n",
              "      <td>https://busy.az/vacancy/131978/ios-developer-m...</td>\n",
              "      <td>Express Bank</td>\n",
              "      <td>Bakı</td>\n",
              "      <td>Tam ştat (full time)</td>\n",
              "      <td>NaN</td>\n",
              "      <td>NaN</td>\n",
              "      <td>Razılaşma yolu ilə</td>\n",
              "      <td>03.07.2024</td>\n",
              "      <td>17.07.2024</td>\n",
              "      <td>['OOP', 'proqramlaşdırma', 'iOS development', ...</td>\n",
              "    </tr>\n",
              "  </tbody>\n",
              "</table>\n",
              "</div>"
            ],
            "text/plain": [
              "   Unnamed: 0                                               Name  \\\n",
              "0           0               Mobil tətbiq üzrə məhsul mütəxəssisi   \n",
              "1           1                           Senior Backend Developer   \n",
              "2           2  Proqramlaşdırma İdarəsinin Tətbiqi proqramlaşd...   \n",
              "3           3                                  Mid IOS Developer   \n",
              "4           4                             IOS Developer (middle)   \n",
              "\n",
              "                                      Url to Vacancy         Company Location  \\\n",
              "0  https://busy.az/vacancy/132205/mobil-tetbiq-uz...        189 Taxi     Bakı   \n",
              "1  https://busy.az/vacancy/132086/senior-backend-...  Ferrum Capital     Bakı   \n",
              "2  https://busy.az/vacancy/132034/proqramlasdirma...       Xalq Bank     Bakı   \n",
              "3   https://busy.az/vacancy/132014/mid-ios-developer      Golden Pay     Bakı   \n",
              "4  https://busy.az/vacancy/131978/ios-developer-m...    Express Bank     Bakı   \n",
              "\n",
              "     Type of Employment Age category Education degree              Salary  \\\n",
              "0  Tam ştat (full time)          NaN              Ali  Razılaşma yolu ilə   \n",
              "1  Tam ştat (full time)          NaN              NaN  Razılaşma yolu ilə   \n",
              "2  Tam ştat (full time)          NaN              NaN  Razılaşma yolu ilə   \n",
              "3  Tam ştat (full time)          NaN              NaN  Razılaşma yolu ilə   \n",
              "4  Tam ştat (full time)          NaN              NaN  Razılaşma yolu ilə   \n",
              "\n",
              "  Posting Date Deadline Date  \\\n",
              "0   04.07.2024    18.07.2024   \n",
              "1   03.07.2024    17.07.2024   \n",
              "2   03.07.2024    17.07.2024   \n",
              "3   03.07.2024    17.07.2024   \n",
              "4   03.07.2024    17.07.2024   \n",
              "\n",
              "                                              Skills  \n",
              "0  ['software development', 'programming', 'mobil...  \n",
              "1  ['Oracle', 'T-SQL', 'OOP', 'back-end developme...  \n",
              "2  ['SQL', 'back-end development', 'programming',...  \n",
              "3  ['proqramlaşdırma', 'iOS development', 'progra...  \n",
              "4  ['OOP', 'proqramlaşdırma', 'iOS development', ...  "
            ]
          },
          "execution_count": 76,
          "metadata": {},
          "output_type": "execute_result"
        }
      ],
      "source": [
        "df = pd.read_excel(\"Software Vacancy.xlsx\")\n",
        "df.head()"
      ]
    },
    {
      "cell_type": "code",
      "execution_count": 77,
      "metadata": {
        "colab": {
          "base_uri": "https://localhost:8080/",
          "height": 345
        },
        "id": "DfSy-bmm-LHU",
        "outputId": "bfb8a72b-bde4-422a-9613-add644f7f42a"
      },
      "outputs": [
        {
          "data": {
            "text/html": [
              "<div>\n",
              "<style scoped>\n",
              "    .dataframe tbody tr th:only-of-type {\n",
              "        vertical-align: middle;\n",
              "    }\n",
              "\n",
              "    .dataframe tbody tr th {\n",
              "        vertical-align: top;\n",
              "    }\n",
              "\n",
              "    .dataframe thead th {\n",
              "        text-align: right;\n",
              "    }\n",
              "</style>\n",
              "<table border=\"1\" class=\"dataframe\">\n",
              "  <thead>\n",
              "    <tr style=\"text-align: right;\">\n",
              "      <th></th>\n",
              "      <th>Name</th>\n",
              "      <th>Url to Vacancy</th>\n",
              "      <th>Company</th>\n",
              "      <th>Location</th>\n",
              "      <th>Type of Employment</th>\n",
              "      <th>Age category</th>\n",
              "      <th>Education degree</th>\n",
              "      <th>Salary</th>\n",
              "      <th>Posting Date</th>\n",
              "      <th>Deadline Date</th>\n",
              "      <th>Skills</th>\n",
              "    </tr>\n",
              "  </thead>\n",
              "  <tbody>\n",
              "    <tr>\n",
              "      <th>0</th>\n",
              "      <td>Mobil tətbiq üzrə məhsul mütəxəssisi</td>\n",
              "      <td>https://busy.az/vacancy/132205/mobil-tetbiq-uz...</td>\n",
              "      <td>189 Taxi</td>\n",
              "      <td>Bakı</td>\n",
              "      <td>Tam ştat (full time)</td>\n",
              "      <td>NaN</td>\n",
              "      <td>Ali</td>\n",
              "      <td>Razılaşma yolu ilə</td>\n",
              "      <td>04.07.2024</td>\n",
              "      <td>18.07.2024</td>\n",
              "      <td>['software development', 'programming', 'mobil...</td>\n",
              "    </tr>\n",
              "    <tr>\n",
              "      <th>1</th>\n",
              "      <td>Senior Backend Developer</td>\n",
              "      <td>https://busy.az/vacancy/132086/senior-backend-...</td>\n",
              "      <td>Ferrum Capital</td>\n",
              "      <td>Bakı</td>\n",
              "      <td>Tam ştat (full time)</td>\n",
              "      <td>NaN</td>\n",
              "      <td>NaN</td>\n",
              "      <td>Razılaşma yolu ilə</td>\n",
              "      <td>03.07.2024</td>\n",
              "      <td>17.07.2024</td>\n",
              "      <td>['Oracle', 'T-SQL', 'OOP', 'back-end developme...</td>\n",
              "    </tr>\n",
              "    <tr>\n",
              "      <th>2</th>\n",
              "      <td>Proqramlaşdırma İdarəsinin Tətbiqi proqramlaşd...</td>\n",
              "      <td>https://busy.az/vacancy/132034/proqramlasdirma...</td>\n",
              "      <td>Xalq Bank</td>\n",
              "      <td>Bakı</td>\n",
              "      <td>Tam ştat (full time)</td>\n",
              "      <td>NaN</td>\n",
              "      <td>NaN</td>\n",
              "      <td>Razılaşma yolu ilə</td>\n",
              "      <td>03.07.2024</td>\n",
              "      <td>17.07.2024</td>\n",
              "      <td>['SQL', 'back-end development', 'programming',...</td>\n",
              "    </tr>\n",
              "    <tr>\n",
              "      <th>3</th>\n",
              "      <td>Mid IOS Developer</td>\n",
              "      <td>https://busy.az/vacancy/132014/mid-ios-developer</td>\n",
              "      <td>Golden Pay</td>\n",
              "      <td>Bakı</td>\n",
              "      <td>Tam ştat (full time)</td>\n",
              "      <td>NaN</td>\n",
              "      <td>NaN</td>\n",
              "      <td>Razılaşma yolu ilə</td>\n",
              "      <td>03.07.2024</td>\n",
              "      <td>17.07.2024</td>\n",
              "      <td>['proqramlaşdırma', 'iOS development', 'progra...</td>\n",
              "    </tr>\n",
              "    <tr>\n",
              "      <th>4</th>\n",
              "      <td>IOS Developer (middle)</td>\n",
              "      <td>https://busy.az/vacancy/131978/ios-developer-m...</td>\n",
              "      <td>Express Bank</td>\n",
              "      <td>Bakı</td>\n",
              "      <td>Tam ştat (full time)</td>\n",
              "      <td>NaN</td>\n",
              "      <td>NaN</td>\n",
              "      <td>Razılaşma yolu ilə</td>\n",
              "      <td>03.07.2024</td>\n",
              "      <td>17.07.2024</td>\n",
              "      <td>['OOP', 'proqramlaşdırma', 'iOS development', ...</td>\n",
              "    </tr>\n",
              "  </tbody>\n",
              "</table>\n",
              "</div>"
            ],
            "text/plain": [
              "                                                Name  \\\n",
              "0               Mobil tətbiq üzrə məhsul mütəxəssisi   \n",
              "1                           Senior Backend Developer   \n",
              "2  Proqramlaşdırma İdarəsinin Tətbiqi proqramlaşd...   \n",
              "3                                  Mid IOS Developer   \n",
              "4                             IOS Developer (middle)   \n",
              "\n",
              "                                      Url to Vacancy         Company Location  \\\n",
              "0  https://busy.az/vacancy/132205/mobil-tetbiq-uz...        189 Taxi     Bakı   \n",
              "1  https://busy.az/vacancy/132086/senior-backend-...  Ferrum Capital     Bakı   \n",
              "2  https://busy.az/vacancy/132034/proqramlasdirma...       Xalq Bank     Bakı   \n",
              "3   https://busy.az/vacancy/132014/mid-ios-developer      Golden Pay     Bakı   \n",
              "4  https://busy.az/vacancy/131978/ios-developer-m...    Express Bank     Bakı   \n",
              "\n",
              "     Type of Employment Age category Education degree              Salary  \\\n",
              "0  Tam ştat (full time)          NaN              Ali  Razılaşma yolu ilə   \n",
              "1  Tam ştat (full time)          NaN              NaN  Razılaşma yolu ilə   \n",
              "2  Tam ştat (full time)          NaN              NaN  Razılaşma yolu ilə   \n",
              "3  Tam ştat (full time)          NaN              NaN  Razılaşma yolu ilə   \n",
              "4  Tam ştat (full time)          NaN              NaN  Razılaşma yolu ilə   \n",
              "\n",
              "  Posting Date Deadline Date  \\\n",
              "0   04.07.2024    18.07.2024   \n",
              "1   03.07.2024    17.07.2024   \n",
              "2   03.07.2024    17.07.2024   \n",
              "3   03.07.2024    17.07.2024   \n",
              "4   03.07.2024    17.07.2024   \n",
              "\n",
              "                                              Skills  \n",
              "0  ['software development', 'programming', 'mobil...  \n",
              "1  ['Oracle', 'T-SQL', 'OOP', 'back-end developme...  \n",
              "2  ['SQL', 'back-end development', 'programming',...  \n",
              "3  ['proqramlaşdırma', 'iOS development', 'progra...  \n",
              "4  ['OOP', 'proqramlaşdırma', 'iOS development', ...  "
            ]
          },
          "execution_count": 77,
          "metadata": {},
          "output_type": "execute_result"
        }
      ],
      "source": [
        "df.drop(\"Unnamed: 0\",axis=1,inplace=True)\n",
        "df.head()"
      ]
    },
    {
      "cell_type": "code",
      "execution_count": 78,
      "metadata": {
        "colab": {
          "base_uri": "https://localhost:8080/"
        },
        "id": "nbCpQn8g-LHV",
        "outputId": "8bdae334-53ee-430b-9f9a-7e04e772ee9c"
      },
      "outputs": [
        {
          "data": {
            "text/plain": [
              "(1796, 11)"
            ]
          },
          "execution_count": 78,
          "metadata": {},
          "output_type": "execute_result"
        }
      ],
      "source": [
        "df.shape"
      ]
    },
    {
      "cell_type": "code",
      "execution_count": 79,
      "metadata": {
        "colab": {
          "base_uri": "https://localhost:8080/",
          "height": 429
        },
        "id": "eVePA8Yy-LHV",
        "outputId": "7f434be9-846a-457a-ca1e-ce25a8090480"
      },
      "outputs": [
        {
          "data": {
            "text/plain": [
              "Name                     0\n",
              "Url to Vacancy           0\n",
              "Company                  0\n",
              "Location               623\n",
              "Type of Employment       0\n",
              "Age category          1717\n",
              "Education degree      1058\n",
              "Salary                   0\n",
              "Posting Date             8\n",
              "Deadline Date            8\n",
              "Skills                   0\n",
              "dtype: int64"
            ]
          },
          "execution_count": 79,
          "metadata": {},
          "output_type": "execute_result"
        }
      ],
      "source": [
        "df.isna().sum()"
      ]
    },
    {
      "cell_type": "code",
      "execution_count": 80,
      "metadata": {
        "colab": {
          "base_uri": "https://localhost:8080/"
        },
        "id": "iPIPeRIw-LHV",
        "outputId": "2729af91-bb45-42d6-d807-dff3fd785b5c"
      },
      "outputs": [
        {
          "name": "stdout",
          "output_type": "stream",
          "text": [
            "<class 'pandas.core.frame.DataFrame'>\n",
            "RangeIndex: 1796 entries, 0 to 1795\n",
            "Data columns (total 11 columns):\n",
            " #   Column              Non-Null Count  Dtype \n",
            "---  ------              --------------  ----- \n",
            " 0   Name                1796 non-null   object\n",
            " 1   Url to Vacancy      1796 non-null   object\n",
            " 2   Company             1796 non-null   object\n",
            " 3   Location            1173 non-null   object\n",
            " 4   Type of Employment  1796 non-null   object\n",
            " 5   Age category        79 non-null     object\n",
            " 6   Education degree    738 non-null    object\n",
            " 7   Salary              1796 non-null   object\n",
            " 8   Posting Date        1788 non-null   object\n",
            " 9   Deadline Date       1788 non-null   object\n",
            " 10  Skills              1796 non-null   object\n",
            "dtypes: object(11)\n",
            "memory usage: 154.5+ KB\n"
          ]
        }
      ],
      "source": [
        "df.info()"
      ]
    },
    {
      "cell_type": "code",
      "execution_count": 81,
      "metadata": {
        "colab": {
          "base_uri": "https://localhost:8080/"
        },
        "id": "SGOW0D-d-LHW",
        "outputId": "c6afe222-2b1a-4661-d3b7-618ffe3a28a9"
      },
      "outputs": [
        {
          "data": {
            "text/plain": [
              "13"
            ]
          },
          "execution_count": 81,
          "metadata": {},
          "output_type": "execute_result"
        }
      ],
      "source": [
        "df.duplicated().sum()"
      ]
    },
    {
      "cell_type": "code",
      "execution_count": 82,
      "metadata": {
        "colab": {
          "base_uri": "https://localhost:8080/",
          "height": 164
        },
        "id": "cNPjKlhC-LHW",
        "outputId": "dbf0368b-0f60-4c50-e07c-2426c9e4db07"
      },
      "outputs": [
        {
          "data": {
            "text/html": [
              "<div>\n",
              "<style scoped>\n",
              "    .dataframe tbody tr th:only-of-type {\n",
              "        vertical-align: middle;\n",
              "    }\n",
              "\n",
              "    .dataframe tbody tr th {\n",
              "        vertical-align: top;\n",
              "    }\n",
              "\n",
              "    .dataframe thead th {\n",
              "        text-align: right;\n",
              "    }\n",
              "</style>\n",
              "<table border=\"1\" class=\"dataframe\">\n",
              "  <thead>\n",
              "    <tr style=\"text-align: right;\">\n",
              "      <th></th>\n",
              "      <th>Name</th>\n",
              "      <th>Url to Vacancy</th>\n",
              "      <th>Company</th>\n",
              "      <th>Location</th>\n",
              "      <th>Type of Employment</th>\n",
              "      <th>Age category</th>\n",
              "      <th>Education degree</th>\n",
              "      <th>Salary</th>\n",
              "      <th>Posting Date</th>\n",
              "      <th>Deadline Date</th>\n",
              "      <th>Skills</th>\n",
              "    </tr>\n",
              "  </thead>\n",
              "  <tbody>\n",
              "    <tr>\n",
              "      <th>442</th>\n",
              "      <td>PHP Developer</td>\n",
              "      <td>https://busy.az/vacancy/98258/php-developer</td>\n",
              "      <td>Push30</td>\n",
              "      <td>Bakı</td>\n",
              "      <td>Tam ştat (full time)</td>\n",
              "      <td>NaN</td>\n",
              "      <td>Ali (bakalavr)</td>\n",
              "      <td>Razılaşma yolu ilə</td>\n",
              "      <td>25.04.2023</td>\n",
              "      <td>25.05.2023</td>\n",
              "      <td>['HTML', 'CSS', 'JavaScript', 'programming', '...</td>\n",
              "    </tr>\n",
              "    <tr>\n",
              "      <th>443</th>\n",
              "      <td>PHP Developer</td>\n",
              "      <td>https://busy.az/vacancy/98258/php-developer</td>\n",
              "      <td>Push30</td>\n",
              "      <td>Bakı</td>\n",
              "      <td>Tam ştat (full time)</td>\n",
              "      <td>NaN</td>\n",
              "      <td>Ali (bakalavr)</td>\n",
              "      <td>Razılaşma yolu ilə</td>\n",
              "      <td>25.04.2023</td>\n",
              "      <td>25.05.2023</td>\n",
              "      <td>['HTML', 'CSS', 'JavaScript', 'programming', '...</td>\n",
              "    </tr>\n",
              "  </tbody>\n",
              "</table>\n",
              "</div>"
            ],
            "text/plain": [
              "              Name                               Url to Vacancy Company  \\\n",
              "442  PHP Developer  https://busy.az/vacancy/98258/php-developer  Push30   \n",
              "443  PHP Developer  https://busy.az/vacancy/98258/php-developer  Push30   \n",
              "\n",
              "    Location    Type of Employment Age category Education degree  \\\n",
              "442     Bakı  Tam ştat (full time)          NaN   Ali (bakalavr)   \n",
              "443     Bakı  Tam ştat (full time)          NaN   Ali (bakalavr)   \n",
              "\n",
              "                 Salary Posting Date Deadline Date  \\\n",
              "442  Razılaşma yolu ilə   25.04.2023    25.05.2023   \n",
              "443  Razılaşma yolu ilə   25.04.2023    25.05.2023   \n",
              "\n",
              "                                                Skills  \n",
              "442  ['HTML', 'CSS', 'JavaScript', 'programming', '...  \n",
              "443  ['HTML', 'CSS', 'JavaScript', 'programming', '...  "
            ]
          },
          "execution_count": 82,
          "metadata": {},
          "output_type": "execute_result"
        }
      ],
      "source": [
        "df[df.duplicated(keep=False)][:2]"
      ]
    },
    {
      "cell_type": "markdown",
      "metadata": {
        "id": "AmrBjQSX-LHW"
      },
      "source": [
        "# Cleaning"
      ]
    },
    {
      "cell_type": "code",
      "execution_count": 83,
      "metadata": {
        "colab": {
          "base_uri": "https://localhost:8080/"
        },
        "id": "yBeAXy73-LHX",
        "outputId": "fd9c00c9-e3d2-4927-8f3b-19a047398c94"
      },
      "outputs": [
        {
          "data": {
            "text/html": [
              "<div>\n",
              "<style scoped>\n",
              "    .dataframe tbody tr th:only-of-type {\n",
              "        vertical-align: middle;\n",
              "    }\n",
              "\n",
              "    .dataframe tbody tr th {\n",
              "        vertical-align: top;\n",
              "    }\n",
              "\n",
              "    .dataframe thead th {\n",
              "        text-align: right;\n",
              "    }\n",
              "</style>\n",
              "<table border=\"1\" class=\"dataframe\">\n",
              "  <thead>\n",
              "    <tr style=\"text-align: right;\">\n",
              "      <th></th>\n",
              "      <th>Name</th>\n",
              "      <th>Url_to_Vacancy</th>\n",
              "      <th>Company</th>\n",
              "      <th>Location</th>\n",
              "      <th>Type_of_Employment</th>\n",
              "      <th>Age_category</th>\n",
              "      <th>Education_degree</th>\n",
              "      <th>Salary</th>\n",
              "      <th>Posting_Date</th>\n",
              "      <th>Deadline_Date</th>\n",
              "      <th>Skills</th>\n",
              "    </tr>\n",
              "  </thead>\n",
              "  <tbody>\n",
              "    <tr>\n",
              "      <th>0</th>\n",
              "      <td>Mobil tətbiq üzrə məhsul mütəxəssisi</td>\n",
              "      <td>https://busy.az/vacancy/132205/mobil-tetbiq-uz...</td>\n",
              "      <td>189 Taxi</td>\n",
              "      <td>Bakı</td>\n",
              "      <td>Tam ştat (full time)</td>\n",
              "      <td>NaN</td>\n",
              "      <td>Ali</td>\n",
              "      <td>Razılaşma yolu ilə</td>\n",
              "      <td>04.07.2024</td>\n",
              "      <td>18.07.2024</td>\n",
              "      <td>['software development', 'programming', 'mobil...</td>\n",
              "    </tr>\n",
              "    <tr>\n",
              "      <th>1</th>\n",
              "      <td>Senior Backend Developer</td>\n",
              "      <td>https://busy.az/vacancy/132086/senior-backend-...</td>\n",
              "      <td>Ferrum Capital</td>\n",
              "      <td>Bakı</td>\n",
              "      <td>Tam ştat (full time)</td>\n",
              "      <td>NaN</td>\n",
              "      <td>NaN</td>\n",
              "      <td>Razılaşma yolu ilə</td>\n",
              "      <td>03.07.2024</td>\n",
              "      <td>17.07.2024</td>\n",
              "      <td>['Oracle', 'T-SQL', 'OOP', 'back-end developme...</td>\n",
              "    </tr>\n",
              "    <tr>\n",
              "      <th>2</th>\n",
              "      <td>Proqramlaşdırma İdarəsinin Tətbiqi proqramlaşd...</td>\n",
              "      <td>https://busy.az/vacancy/132034/proqramlasdirma...</td>\n",
              "      <td>Xalq Bank</td>\n",
              "      <td>Bakı</td>\n",
              "      <td>Tam ştat (full time)</td>\n",
              "      <td>NaN</td>\n",
              "      <td>NaN</td>\n",
              "      <td>Razılaşma yolu ilə</td>\n",
              "      <td>03.07.2024</td>\n",
              "      <td>17.07.2024</td>\n",
              "      <td>['SQL', 'back-end development', 'programming',...</td>\n",
              "    </tr>\n",
              "    <tr>\n",
              "      <th>3</th>\n",
              "      <td>Mid IOS Developer</td>\n",
              "      <td>https://busy.az/vacancy/132014/mid-ios-developer</td>\n",
              "      <td>Golden Pay</td>\n",
              "      <td>Bakı</td>\n",
              "      <td>Tam ştat (full time)</td>\n",
              "      <td>NaN</td>\n",
              "      <td>NaN</td>\n",
              "      <td>Razılaşma yolu ilə</td>\n",
              "      <td>03.07.2024</td>\n",
              "      <td>17.07.2024</td>\n",
              "      <td>['proqramlaşdırma', 'iOS development', 'progra...</td>\n",
              "    </tr>\n",
              "    <tr>\n",
              "      <th>4</th>\n",
              "      <td>IOS Developer (middle)</td>\n",
              "      <td>https://busy.az/vacancy/131978/ios-developer-m...</td>\n",
              "      <td>Express Bank</td>\n",
              "      <td>Bakı</td>\n",
              "      <td>Tam ştat (full time)</td>\n",
              "      <td>NaN</td>\n",
              "      <td>NaN</td>\n",
              "      <td>Razılaşma yolu ilə</td>\n",
              "      <td>03.07.2024</td>\n",
              "      <td>17.07.2024</td>\n",
              "      <td>['OOP', 'proqramlaşdırma', 'iOS development', ...</td>\n",
              "    </tr>\n",
              "  </tbody>\n",
              "</table>\n",
              "</div>"
            ],
            "text/plain": [
              "                                                Name  \\\n",
              "0               Mobil tətbiq üzrə məhsul mütəxəssisi   \n",
              "1                           Senior Backend Developer   \n",
              "2  Proqramlaşdırma İdarəsinin Tətbiqi proqramlaşd...   \n",
              "3                                  Mid IOS Developer   \n",
              "4                             IOS Developer (middle)   \n",
              "\n",
              "                                      Url_to_Vacancy         Company Location  \\\n",
              "0  https://busy.az/vacancy/132205/mobil-tetbiq-uz...        189 Taxi     Bakı   \n",
              "1  https://busy.az/vacancy/132086/senior-backend-...  Ferrum Capital     Bakı   \n",
              "2  https://busy.az/vacancy/132034/proqramlasdirma...       Xalq Bank     Bakı   \n",
              "3   https://busy.az/vacancy/132014/mid-ios-developer      Golden Pay     Bakı   \n",
              "4  https://busy.az/vacancy/131978/ios-developer-m...    Express Bank     Bakı   \n",
              "\n",
              "     Type_of_Employment Age_category Education_degree              Salary  \\\n",
              "0  Tam ştat (full time)          NaN              Ali  Razılaşma yolu ilə   \n",
              "1  Tam ştat (full time)          NaN              NaN  Razılaşma yolu ilə   \n",
              "2  Tam ştat (full time)          NaN              NaN  Razılaşma yolu ilə   \n",
              "3  Tam ştat (full time)          NaN              NaN  Razılaşma yolu ilə   \n",
              "4  Tam ştat (full time)          NaN              NaN  Razılaşma yolu ilə   \n",
              "\n",
              "  Posting_Date Deadline_Date  \\\n",
              "0   04.07.2024    18.07.2024   \n",
              "1   03.07.2024    17.07.2024   \n",
              "2   03.07.2024    17.07.2024   \n",
              "3   03.07.2024    17.07.2024   \n",
              "4   03.07.2024    17.07.2024   \n",
              "\n",
              "                                              Skills  \n",
              "0  ['software development', 'programming', 'mobil...  \n",
              "1  ['Oracle', 'T-SQL', 'OOP', 'back-end developme...  \n",
              "2  ['SQL', 'back-end development', 'programming',...  \n",
              "3  ['proqramlaşdırma', 'iOS development', 'progra...  \n",
              "4  ['OOP', 'proqramlaşdırma', 'iOS development', ...  "
            ]
          },
          "execution_count": 83,
          "metadata": {},
          "output_type": "execute_result"
        }
      ],
      "source": [
        "df_clean = df.copy(deep=True)\n",
        "df_clean.columns = df_clean.columns.str.replace(\" \",\"_\")\n",
        "df_clean.head()"
      ]
    },
    {
      "cell_type": "code",
      "execution_count": 84,
      "metadata": {},
      "outputs": [],
      "source": [
        "df_clean[\"Posting_Date\"] = pd.to_datetime(df_clean[\"Posting_Date\"], format=\"%d.%m.%Y\")\n",
        "df_clean[\"Deadline_Date\"] = pd.to_datetime(df_clean[\"Deadline_Date\"], format=\"%d.%m.%Y\")"
      ]
    },
    {
      "cell_type": "code",
      "execution_count": 85,
      "metadata": {},
      "outputs": [],
      "source": [
        "df_clean['Month'] = df_clean['Posting_Date'].dt.month\n",
        "df_clean['Year'] = df_clean['Posting_Date'].dt.year"
      ]
    },
    {
      "cell_type": "code",
      "execution_count": 86,
      "metadata": {
        "colab": {
          "base_uri": "https://localhost:8080/",
          "height": 397
        },
        "id": "g8JqJXja-LHX",
        "outputId": "c43b8122-f187-4c57-8464-3b28a373a852"
      },
      "outputs": [
        {
          "data": {
            "text/plain": [
              "Location\n",
              "Bakı                                                                                                                                                                                                                                                             1158\n",
              "Abşeron rayonu/Xırdalan                                                                                                                                                                                                                                             5\n",
              "Sumqayıt                                                                                                                                                                                                                                                            4\n",
              "Göygöl                                                                                                                                                                                                                                                              1\n",
              "Quba\\n                                                                                        \\n                                            \\n                                                                                        Xaçmaz                        1\n",
              "Bakı\\n                                                                                        \\n                                            \\n                                                                                        Abşeron rayonu/Xırdalan       1\n",
              "Gəncə                                                                                                                                                                                                                                                               1\n",
              "Balakən                                                                                                                                                                                                                                                             1\n",
              "Hacıqabul\\n                                                                                         \\n                                            \\n                                                                                        Şirvan                  1\n",
              "Name: count, dtype: int64"
            ]
          },
          "execution_count": 86,
          "metadata": {},
          "output_type": "execute_result"
        }
      ],
      "source": [
        "df_clean['Location'].value_counts()"
      ]
    },
    {
      "cell_type": "code",
      "execution_count": 87,
      "metadata": {
        "colab": {
          "base_uri": "https://localhost:8080/",
          "height": 241
        },
        "id": "5xQb92vm-LHY",
        "outputId": "5951ad23-4be2-49e4-ea53-03f40ab9892d"
      },
      "outputs": [
        {
          "data": {
            "text/plain": [
              "Education_degree\n",
              "Ali               524\n",
              "Ali (bakalavr)    211\n",
              "Ali (Magistr)       2\n",
              "Elmlər doktoru      1\n",
              "Name: count, dtype: int64"
            ]
          },
          "execution_count": 87,
          "metadata": {},
          "output_type": "execute_result"
        }
      ],
      "source": [
        "df_clean['Education_degree'].value_counts()"
      ]
    },
    {
      "cell_type": "code",
      "execution_count": 88,
      "metadata": {
        "colab": {
          "base_uri": "https://localhost:8080/",
          "height": 507
        },
        "id": "yFP5knuQ-LHY",
        "outputId": "7eadfa84-71a4-496e-b244-4fe16c760c21"
      },
      "outputs": [
        {
          "name": "stdout",
          "output_type": "stream",
          "text": [
            "Totalunique company count 379\n"
          ]
        },
        {
          "data": {
            "text/plain": [
              "Company\n",
              "Kapital Bank           57\n",
              "eManat                 43\n",
              "Bank Respublika ASC    41\n",
              "Ateshgah Sigorta       39\n",
              "PASHA Bank             36\n",
              "                       ..\n",
              "Fizza Pay               1\n",
              "POS.az                  1\n",
              "Capital XR              1\n",
              "Engineering company     1\n",
              "Oilfield Company        1\n",
              "Name: count, Length: 379, dtype: int64"
            ]
          },
          "execution_count": 88,
          "metadata": {},
          "output_type": "execute_result"
        }
      ],
      "source": [
        "print(\"Totalunique company count\", df_clean['Company'].nunique())\n",
        "df_clean['Company'].value_counts()"
      ]
    },
    {
      "cell_type": "code",
      "execution_count": 89,
      "metadata": {
        "colab": {
          "base_uri": "https://localhost:8080/",
          "height": 209
        },
        "id": "tdCBWPrd-LHY",
        "outputId": "422c8d8b-b46a-4917-97f4-8049fb4129c0"
      },
      "outputs": [
        {
          "data": {
            "text/plain": [
              "Type_of_Employment\n",
              "Tam ştat (full time)          1783\n",
              "Təcrübəçi (stajor, intern)      11\n",
              "Layihə/Müvəqqəti                 2\n",
              "Name: count, dtype: int64"
            ]
          },
          "execution_count": 89,
          "metadata": {},
          "output_type": "execute_result"
        }
      ],
      "source": [
        "df_clean['Type_of_Employment'].value_counts()"
      ]
    },
    {
      "cell_type": "code",
      "execution_count": 90,
      "metadata": {
        "colab": {
          "base_uri": "https://localhost:8080/",
          "height": 742
        },
        "id": "Y_zlcv-V-LHY",
        "outputId": "0b0718dd-3558-45b6-ba55-f680772c11e8"
      },
      "outputs": [
        {
          "data": {
            "text/plain": [
              "Salary\n",
              "Razılaşma yolu ilə    1520\n",
              "1500 - 2000             26\n",
              "1200 - 1500             16\n",
              "2000 - 3000             15\n",
              "2000 - 2500             10\n",
              "1500 - 2500             10\n",
              "3000 - 3500              9\n",
              "1000 - 1500              9\n",
              "800                      7\n",
              "1500                     7\n",
              "2500 - 3500              7\n",
              "1000                     6\n",
              "700 - 1100               6\n",
              "400                      6\n",
              "1500 - 3000              5\n",
              "2500 - 3000              5\n",
              "2000                     5\n",
              "600 - 1000               5\n",
              "1000 - 1200              4\n",
              "2000 - 3500              4\n",
              "Name: count, dtype: int64"
            ]
          },
          "execution_count": 90,
          "metadata": {},
          "output_type": "execute_result"
        }
      ],
      "source": [
        "df_clean['Salary'].value_counts().head(20)"
      ]
    },
    {
      "cell_type": "code",
      "execution_count": 91,
      "metadata": {
        "id": "u7K3YMCe-LHY"
      },
      "outputs": [
        {
          "name": "stderr",
          "output_type": "stream",
          "text": [
            "C:\\Users\\Lenovo\\AppData\\Local\\Temp\\ipykernel_6264\\2563775389.py:26: FutureWarning: A value is trying to be set on a copy of a DataFrame or Series through chained assignment using an inplace method.\n",
            "The behavior will change in pandas 3.0. This inplace method will never work because the intermediate object on which we are setting values always behaves as a copy.\n",
            "\n",
            "For example, when doing 'df[col].method(value, inplace=True)', try using 'df.method({col: value}, inplace=True)' or df[col] = df[col].method(value) instead, to perform the operation inplace on the original object.\n",
            "\n",
            "\n",
            "  df_clean['Salary'].replace(replacement_dict,inplace=True)\n"
          ]
        }
      ],
      "source": [
        "replacement_dict = {\n",
        "    \"2000 - 2500\":\"2000 - 3000\",\n",
        "    \"1000 - 1400\":\"1200 - 1500\",\n",
        "    \"1000 - 1500\":\"1200 - 1500\",\n",
        "    \"1500 - 2000\":\"1500 - 2500\",\n",
        "    \"3000 - 3500\":\"2500 - 3500\",\n",
        "    \"1300 - 1500\":\"1200 - 1500\",\n",
        "    \"1500 - 3000\":\"2000 - 3000\",\n",
        "    \"3500 - 4500\":\"2500 - 5000\",\n",
        "    \"800 - 1800\":\"1500 - 2000\",\n",
        "\n",
        "    \"2250\":\"2000 - 3000\",\n",
        "    \"1300\":\"1200 - 1500\",\n",
        "    \"1200\":\"1200 - 1500\",\n",
        "    \"2000\":\"1500 - 2000\",\n",
        "    \"1500\":\"1200 - 1500\",\n",
        "    \"3000\":\"2000 - 3000\",\n",
        "    \"800\":\"1200 - 1500\",\n",
        "    \"600 - 800\":\"300-800\",\n",
        "    \"500 - 800\":\"300-800\",\n",
        "    \"500\":\"500 - 1200\",\n",
        "\n",
        "    \"1000\":\"700 - 1100\",\n",
        "    \"400\":\"300-800\",\n",
        "}\n",
        "df_clean['Salary'].replace(replacement_dict,inplace=True)"
      ]
    },
    {
      "cell_type": "code",
      "execution_count": 92,
      "metadata": {
        "colab": {
          "base_uri": "https://localhost:8080/",
          "height": 742
        },
        "id": "GCc4CaBP-LHY",
        "outputId": "ce209d3a-ccba-4aee-dee4-42ab7ca15120"
      },
      "outputs": [
        {
          "data": {
            "text/plain": [
              "Salary\n",
              "Razılaşma yolu ilə    1520\n",
              "1200 - 1500             45\n",
              "1500 - 2500             36\n",
              "2000 - 3000             34\n",
              "2500 - 3500             16\n",
              "300-800                 14\n",
              "700 - 1100              12\n",
              "1500 - 2000              6\n",
              "600 - 1000               5\n",
              "2500 - 3000              5\n",
              "1000 - 1200              4\n",
              "2000 - 3500              4\n",
              "800 - 1200               4\n",
              "1200 - 1800              3\n",
              "700 - 2500               3\n",
              "800 - 1300               3\n",
              "1000 - 3000              3\n",
              "2000 - 4000              3\n",
              "1500 - 1800              3\n",
              "1000 - 2000              3\n",
              "Name: count, dtype: int64"
            ]
          },
          "execution_count": 92,
          "metadata": {},
          "output_type": "execute_result"
        }
      ],
      "source": [
        "df_clean['Salary'].value_counts().head(20)"
      ]
    },
    {
      "cell_type": "code",
      "execution_count": 93,
      "metadata": {
        "colab": {
          "base_uri": "https://localhost:8080/",
          "height": 774
        },
        "id": "oIPYMRbJ-LHY",
        "outputId": "6f86b3fb-80d5-4b33-c143-cb969b0f33ae"
      },
      "outputs": [
        {
          "data": {
            "text/plain": [
              "Age_category\n",
              "25  - 45    19\n",
              "25  - 30    12\n",
              "20  - 35    10\n",
              "22  - 35     7\n",
              "25  - 35     5\n",
              "22  - 28     3\n",
              "24  - 35     3\n",
              "20  - 30     3\n",
              "23  - 45     2\n",
              "25  - 40     2\n",
              "22  - 30     2\n",
              "24           2\n",
              "21  - 30     1\n",
              "20  - 28     1\n",
              "24  - 40     1\n",
              "24  - 30     1\n",
              "23  - 35     1\n",
              "23  - 28     1\n",
              "22  - 40     1\n",
              "22  - 26     1\n",
              "23  - 30     1\n",
              "Name: count, dtype: int64"
            ]
          },
          "execution_count": 93,
          "metadata": {},
          "output_type": "execute_result"
        }
      ],
      "source": [
        "df_clean['Age_category'].value_counts()"
      ]
    },
    {
      "cell_type": "code",
      "execution_count": 94,
      "metadata": {
        "id": "4qvnq6Iu-LHZ"
      },
      "outputs": [
        {
          "name": "stderr",
          "output_type": "stream",
          "text": [
            "C:\\Users\\Lenovo\\AppData\\Local\\Temp\\ipykernel_6264\\4209940388.py:25: FutureWarning: A value is trying to be set on a copy of a DataFrame or Series through chained assignment using an inplace method.\n",
            "The behavior will change in pandas 3.0. This inplace method will never work because the intermediate object on which we are setting values always behaves as a copy.\n",
            "\n",
            "For example, when doing 'df[col].method(value, inplace=True)', try using 'df.method({col: value}, inplace=True)' or df[col] = df[col].method(value) instead, to perform the operation inplace on the original object.\n",
            "\n",
            "\n",
            "  df_clean['Age_category'].replace(replacement_dict,inplace=True)\n"
          ]
        }
      ],
      "source": [
        "replacement_dict = {\n",
        "    \"20  - 30\":\"20  - 35\",\n",
        "    \"20  - 28\":\"20  - 35\",\n",
        "    \"21  - 30\":\"20  - 35\",\n",
        "    \"22 - 35\": \"20  - 35\",\n",
        "    \"22  - 28\":\"20  - 35\",\n",
        "    \"22  - 30\":\"20  - 35\",\n",
        "    \"22  - 35\":\"20  - 35\",\n",
        "    \"22  - 26\":\"20  - 35\",\n",
        "    \"23  - 30\":\"20  - 35\",\n",
        "    \"23  - 28\":\"20  - 35\",\n",
        "    \"23  - 35\":\"20  - 35\",\n",
        "    \"24  - 35\":\"20  - 35\",\n",
        "    \"25 - 30\": \"20  - 35\",\n",
        "    \"25  - 35\":\"20  - 35\",\n",
        "    \"24\" : \"20  - 35\",\n",
        "\n",
        "    \"22  - 40\":\"25  - 45\",\n",
        "    \"23  - 45\":\"25  - 45\",\n",
        "    \"24  - 30\":\"25  - 30\",\n",
        "    \"24  - 40\":\"25  - 45\",\n",
        "    \"25  - 40\":\"25  - 45\",\n",
        "}\n",
        "\n",
        "df_clean['Age_category'].replace(replacement_dict,inplace=True)"
      ]
    },
    {
      "cell_type": "code",
      "execution_count": 95,
      "metadata": {
        "id": "pWKgkd2g-LHZ"
      },
      "outputs": [],
      "source": [
        "df_clean['Education_degree']  = df_clean['Education_degree'].replace(\"Ali (Magistr)\",\"Ali\")"
      ]
    },
    {
      "cell_type": "code",
      "execution_count": 96,
      "metadata": {
        "colab": {
          "base_uri": "https://localhost:8080/",
          "height": 397
        },
        "id": "vVhbezUz-LHZ",
        "outputId": "4341a526-cc2d-4978-ecc7-2402cb6e7fcd"
      },
      "outputs": [
        {
          "data": {
            "text/plain": [
              "Location\n",
              "Bakı                          1158\n",
              "Abşeronrayonu/Xırdalan           5\n",
              "Sumqayıt                         4\n",
              "Göygöl                           1\n",
              "QubaXaçmaz                       1\n",
              "BakıAbşeronrayonu/Xırdalan       1\n",
              "Gəncə                            1\n",
              "Balakən                          1\n",
              "HacıqabulŞirvan                  1\n",
              "Name: count, dtype: int64"
            ]
          },
          "execution_count": 96,
          "metadata": {},
          "output_type": "execute_result"
        }
      ],
      "source": [
        "df_clean['Location'] = df_clean['Location'].str.replace('\\n', '', regex=False).replace('\\t', '', regex=False).replace(r'\\s+', '', regex=True)\n",
        "df_clean['Location'].value_counts()"
      ]
    },
    {
      "cell_type": "code",
      "execution_count": 97,
      "metadata": {},
      "outputs": [
        {
          "data": {
            "text/html": [
              "<div>\n",
              "<style scoped>\n",
              "    .dataframe tbody tr th:only-of-type {\n",
              "        vertical-align: middle;\n",
              "    }\n",
              "\n",
              "    .dataframe tbody tr th {\n",
              "        vertical-align: top;\n",
              "    }\n",
              "\n",
              "    .dataframe thead th {\n",
              "        text-align: right;\n",
              "    }\n",
              "</style>\n",
              "<table border=\"1\" class=\"dataframe\">\n",
              "  <thead>\n",
              "    <tr style=\"text-align: right;\">\n",
              "      <th></th>\n",
              "      <th>Name</th>\n",
              "      <th>Url_to_Vacancy</th>\n",
              "      <th>Company</th>\n",
              "      <th>Location</th>\n",
              "      <th>Type_of_Employment</th>\n",
              "      <th>Age_category</th>\n",
              "      <th>Education_degree</th>\n",
              "      <th>Salary</th>\n",
              "      <th>Posting_Date</th>\n",
              "      <th>Deadline_Date</th>\n",
              "      <th>Skills</th>\n",
              "      <th>Month</th>\n",
              "      <th>Year</th>\n",
              "    </tr>\n",
              "  </thead>\n",
              "  <tbody>\n",
              "    <tr>\n",
              "      <th>0</th>\n",
              "      <td>Mobil tətbiq üzrə məhsul mütəxəssisi</td>\n",
              "      <td>https://busy.az/vacancy/132205/mobil-tetbiq-uz...</td>\n",
              "      <td>189 Taxi</td>\n",
              "      <td>Bakı</td>\n",
              "      <td>Tam ştat (full time)</td>\n",
              "      <td>NaN</td>\n",
              "      <td>Ali</td>\n",
              "      <td>Razılaşma yolu ilə</td>\n",
              "      <td>2024-07-04</td>\n",
              "      <td>2024-07-18</td>\n",
              "      <td>software development, programming, mobile appl...</td>\n",
              "      <td>7.0</td>\n",
              "      <td>2024.0</td>\n",
              "    </tr>\n",
              "    <tr>\n",
              "      <th>1</th>\n",
              "      <td>Senior Backend Developer</td>\n",
              "      <td>https://busy.az/vacancy/132086/senior-backend-...</td>\n",
              "      <td>Ferrum Capital</td>\n",
              "      <td>Bakı</td>\n",
              "      <td>Tam ştat (full time)</td>\n",
              "      <td>NaN</td>\n",
              "      <td>NaN</td>\n",
              "      <td>Razılaşma yolu ilə</td>\n",
              "      <td>2024-07-03</td>\n",
              "      <td>2024-07-17</td>\n",
              "      <td>Oracle, T-SQL, OOP, back-end development, soft...</td>\n",
              "      <td>7.0</td>\n",
              "      <td>2024.0</td>\n",
              "    </tr>\n",
              "    <tr>\n",
              "      <th>2</th>\n",
              "      <td>Proqramlaşdırma İdarəsinin Tətbiqi proqramlaşd...</td>\n",
              "      <td>https://busy.az/vacancy/132034/proqramlasdirma...</td>\n",
              "      <td>Xalq Bank</td>\n",
              "      <td>Bakı</td>\n",
              "      <td>Tam ştat (full time)</td>\n",
              "      <td>NaN</td>\n",
              "      <td>NaN</td>\n",
              "      <td>Razılaşma yolu ilə</td>\n",
              "      <td>2024-07-03</td>\n",
              "      <td>2024-07-17</td>\n",
              "      <td>SQL, back-end development, programming, proqra...</td>\n",
              "      <td>7.0</td>\n",
              "      <td>2024.0</td>\n",
              "    </tr>\n",
              "    <tr>\n",
              "      <th>3</th>\n",
              "      <td>Mid IOS Developer</td>\n",
              "      <td>https://busy.az/vacancy/132014/mid-ios-developer</td>\n",
              "      <td>Golden Pay</td>\n",
              "      <td>Bakı</td>\n",
              "      <td>Tam ştat (full time)</td>\n",
              "      <td>NaN</td>\n",
              "      <td>NaN</td>\n",
              "      <td>Razılaşma yolu ilə</td>\n",
              "      <td>2024-07-03</td>\n",
              "      <td>2024-07-17</td>\n",
              "      <td>proqramlaşdırma, iOS development, programming,...</td>\n",
              "      <td>7.0</td>\n",
              "      <td>2024.0</td>\n",
              "    </tr>\n",
              "    <tr>\n",
              "      <th>4</th>\n",
              "      <td>IOS Developer (middle)</td>\n",
              "      <td>https://busy.az/vacancy/131978/ios-developer-m...</td>\n",
              "      <td>Express Bank</td>\n",
              "      <td>Bakı</td>\n",
              "      <td>Tam ştat (full time)</td>\n",
              "      <td>NaN</td>\n",
              "      <td>NaN</td>\n",
              "      <td>Razılaşma yolu ilə</td>\n",
              "      <td>2024-07-03</td>\n",
              "      <td>2024-07-17</td>\n",
              "      <td>OOP, proqramlaşdırma, iOS development, softwar...</td>\n",
              "      <td>7.0</td>\n",
              "      <td>2024.0</td>\n",
              "    </tr>\n",
              "    <tr>\n",
              "      <th>...</th>\n",
              "      <td>...</td>\n",
              "      <td>...</td>\n",
              "      <td>...</td>\n",
              "      <td>...</td>\n",
              "      <td>...</td>\n",
              "      <td>...</td>\n",
              "      <td>...</td>\n",
              "      <td>...</td>\n",
              "      <td>...</td>\n",
              "      <td>...</td>\n",
              "      <td>...</td>\n",
              "      <td>...</td>\n",
              "      <td>...</td>\n",
              "    </tr>\n",
              "    <tr>\n",
              "      <th>1791</th>\n",
              "      <td>Software Developer</td>\n",
              "      <td>https://busy.az/vacancy/6883/software-developer</td>\n",
              "      <td>Komtec Ltd</td>\n",
              "      <td>NaN</td>\n",
              "      <td>Tam ştat (full time)</td>\n",
              "      <td>NaN</td>\n",
              "      <td>NaN</td>\n",
              "      <td>Razılaşma yolu ilə</td>\n",
              "      <td>2012-07-07</td>\n",
              "      <td>2012-08-06</td>\n",
              "      <td>proqramçı, programmer, software developer</td>\n",
              "      <td>7.0</td>\n",
              "      <td>2012.0</td>\n",
              "    </tr>\n",
              "    <tr>\n",
              "      <th>1792</th>\n",
              "      <td>Java Developer</td>\n",
              "      <td>https://busy.az/vacancy/6741/java-developer</td>\n",
              "      <td>Komtec Ltd</td>\n",
              "      <td>NaN</td>\n",
              "      <td>Tam ştat (full time)</td>\n",
              "      <td>NaN</td>\n",
              "      <td>NaN</td>\n",
              "      <td>Razılaşma yolu ilə</td>\n",
              "      <td>2012-06-16</td>\n",
              "      <td>2012-07-16</td>\n",
              "      <td>JavaScript, proqramlaşdırma, programming, soft...</td>\n",
              "      <td>6.0</td>\n",
              "      <td>2012.0</td>\n",
              "    </tr>\n",
              "    <tr>\n",
              "      <th>1793</th>\n",
              "      <td>Software Developer</td>\n",
              "      <td>https://busy.az/vacancy/6589/software-developer</td>\n",
              "      <td>Komtec Ltd</td>\n",
              "      <td>NaN</td>\n",
              "      <td>Tam ştat (full time)</td>\n",
              "      <td>NaN</td>\n",
              "      <td>Ali (bakalavr)</td>\n",
              "      <td>Razılaşma yolu ilə</td>\n",
              "      <td>2012-05-24</td>\n",
              "      <td>2012-06-23</td>\n",
              "      <td>software development, proqramlaşdırma, program...</td>\n",
              "      <td>5.0</td>\n",
              "      <td>2012.0</td>\n",
              "    </tr>\n",
              "    <tr>\n",
              "      <th>1794</th>\n",
              "      <td>Process/Production Engineer</td>\n",
              "      <td>https://busy.az/vacancy/6010/processproduction...</td>\n",
              "      <td>Caspian Investment and Development Corporation...</td>\n",
              "      <td>NaN</td>\n",
              "      <td>Tam ştat (full time)</td>\n",
              "      <td>NaN</td>\n",
              "      <td>Ali</td>\n",
              "      <td>Razılaşma yolu ilə</td>\n",
              "      <td>2012-03-05</td>\n",
              "      <td>2012-04-04</td>\n",
              "      <td>web developer, software developer</td>\n",
              "      <td>3.0</td>\n",
              "      <td>2012.0</td>\n",
              "    </tr>\n",
              "    <tr>\n",
              "      <th>1795</th>\n",
              "      <td>Information and Communication Technology Assis...</td>\n",
              "      <td>https://busy.az/vacancy/6006/information-and-c...</td>\n",
              "      <td>Oilfield Company</td>\n",
              "      <td>NaN</td>\n",
              "      <td>Tam ştat (full time)</td>\n",
              "      <td>NaN</td>\n",
              "      <td>Ali (bakalavr)</td>\n",
              "      <td>600 - 900</td>\n",
              "      <td>2012-03-05</td>\n",
              "      <td>2012-04-04</td>\n",
              "      <td>jQuery, Microsoft Office, Microsoft Excel, Mic...</td>\n",
              "      <td>3.0</td>\n",
              "      <td>2012.0</td>\n",
              "    </tr>\n",
              "  </tbody>\n",
              "</table>\n",
              "<p>1796 rows × 13 columns</p>\n",
              "</div>"
            ],
            "text/plain": [
              "                                                   Name  \\\n",
              "0                  Mobil tətbiq üzrə məhsul mütəxəssisi   \n",
              "1                              Senior Backend Developer   \n",
              "2     Proqramlaşdırma İdarəsinin Tətbiqi proqramlaşd...   \n",
              "3                                     Mid IOS Developer   \n",
              "4                                IOS Developer (middle)   \n",
              "...                                                 ...   \n",
              "1791                                 Software Developer   \n",
              "1792                                     Java Developer   \n",
              "1793                                 Software Developer   \n",
              "1794                        Process/Production Engineer   \n",
              "1795  Information and Communication Technology Assis...   \n",
              "\n",
              "                                         Url_to_Vacancy  \\\n",
              "0     https://busy.az/vacancy/132205/mobil-tetbiq-uz...   \n",
              "1     https://busy.az/vacancy/132086/senior-backend-...   \n",
              "2     https://busy.az/vacancy/132034/proqramlasdirma...   \n",
              "3      https://busy.az/vacancy/132014/mid-ios-developer   \n",
              "4     https://busy.az/vacancy/131978/ios-developer-m...   \n",
              "...                                                 ...   \n",
              "1791    https://busy.az/vacancy/6883/software-developer   \n",
              "1792        https://busy.az/vacancy/6741/java-developer   \n",
              "1793    https://busy.az/vacancy/6589/software-developer   \n",
              "1794  https://busy.az/vacancy/6010/processproduction...   \n",
              "1795  https://busy.az/vacancy/6006/information-and-c...   \n",
              "\n",
              "                                                Company Location  \\\n",
              "0                                              189 Taxi     Bakı   \n",
              "1                                        Ferrum Capital     Bakı   \n",
              "2                                             Xalq Bank     Bakı   \n",
              "3                                            Golden Pay     Bakı   \n",
              "4                                          Express Bank     Bakı   \n",
              "...                                                 ...      ...   \n",
              "1791                                         Komtec Ltd      NaN   \n",
              "1792                                         Komtec Ltd      NaN   \n",
              "1793                                         Komtec Ltd      NaN   \n",
              "1794  Caspian Investment and Development Corporation...      NaN   \n",
              "1795                                   Oilfield Company      NaN   \n",
              "\n",
              "        Type_of_Employment Age_category Education_degree              Salary  \\\n",
              "0     Tam ştat (full time)          NaN              Ali  Razılaşma yolu ilə   \n",
              "1     Tam ştat (full time)          NaN              NaN  Razılaşma yolu ilə   \n",
              "2     Tam ştat (full time)          NaN              NaN  Razılaşma yolu ilə   \n",
              "3     Tam ştat (full time)          NaN              NaN  Razılaşma yolu ilə   \n",
              "4     Tam ştat (full time)          NaN              NaN  Razılaşma yolu ilə   \n",
              "...                    ...          ...              ...                 ...   \n",
              "1791  Tam ştat (full time)          NaN              NaN  Razılaşma yolu ilə   \n",
              "1792  Tam ştat (full time)          NaN              NaN  Razılaşma yolu ilə   \n",
              "1793  Tam ştat (full time)          NaN   Ali (bakalavr)  Razılaşma yolu ilə   \n",
              "1794  Tam ştat (full time)          NaN              Ali  Razılaşma yolu ilə   \n",
              "1795  Tam ştat (full time)          NaN   Ali (bakalavr)           600 - 900   \n",
              "\n",
              "     Posting_Date Deadline_Date  \\\n",
              "0      2024-07-04    2024-07-18   \n",
              "1      2024-07-03    2024-07-17   \n",
              "2      2024-07-03    2024-07-17   \n",
              "3      2024-07-03    2024-07-17   \n",
              "4      2024-07-03    2024-07-17   \n",
              "...           ...           ...   \n",
              "1791   2012-07-07    2012-08-06   \n",
              "1792   2012-06-16    2012-07-16   \n",
              "1793   2012-05-24    2012-06-23   \n",
              "1794   2012-03-05    2012-04-04   \n",
              "1795   2012-03-05    2012-04-04   \n",
              "\n",
              "                                                 Skills  Month    Year  \n",
              "0     software development, programming, mobile appl...    7.0  2024.0  \n",
              "1     Oracle, T-SQL, OOP, back-end development, soft...    7.0  2024.0  \n",
              "2     SQL, back-end development, programming, proqra...    7.0  2024.0  \n",
              "3     proqramlaşdırma, iOS development, programming,...    7.0  2024.0  \n",
              "4     OOP, proqramlaşdırma, iOS development, softwar...    7.0  2024.0  \n",
              "...                                                 ...    ...     ...  \n",
              "1791          proqramçı, programmer, software developer    7.0  2012.0  \n",
              "1792  JavaScript, proqramlaşdırma, programming, soft...    6.0  2012.0  \n",
              "1793  software development, proqramlaşdırma, program...    5.0  2012.0  \n",
              "1794                  web developer, software developer    3.0  2012.0  \n",
              "1795  jQuery, Microsoft Office, Microsoft Excel, Mic...    3.0  2012.0  \n",
              "\n",
              "[1796 rows x 13 columns]"
            ]
          },
          "execution_count": 97,
          "metadata": {},
          "output_type": "execute_result"
        }
      ],
      "source": [
        "df_clean['Skills'] = df_clean['Skills'].str.replace('[', '', regex=False).str.replace(']', '', regex=False).str.replace(\"'\", '', regex=False)\n",
        "df_clean"
      ]
    },
    {
      "cell_type": "code",
      "execution_count": 98,
      "metadata": {
        "id": "W-xh_PLb-LHa"
      },
      "outputs": [],
      "source": [
        "def fill_na_with_mode(col_name):\n",
        "    mode = df_clean[col_name].mode()[0]\n",
        "    df_clean[col_name].fillna(mode,inplace=True)"
      ]
    },
    {
      "cell_type": "code",
      "execution_count": 99,
      "metadata": {
        "colab": {
          "base_uri": "https://localhost:8080/",
          "height": 429
        },
        "id": "e5YT4JSD-LHa",
        "outputId": "15efefea-6368-491c-dbf2-6af6e5998459"
      },
      "outputs": [
        {
          "name": "stderr",
          "output_type": "stream",
          "text": [
            "C:\\Users\\Lenovo\\AppData\\Local\\Temp\\ipykernel_6264\\2947110197.py:3: FutureWarning: A value is trying to be set on a copy of a DataFrame or Series through chained assignment using an inplace method.\n",
            "The behavior will change in pandas 3.0. This inplace method will never work because the intermediate object on which we are setting values always behaves as a copy.\n",
            "\n",
            "For example, when doing 'df[col].method(value, inplace=True)', try using 'df.method({col: value}, inplace=True)' or df[col] = df[col].method(value) instead, to perform the operation inplace on the original object.\n",
            "\n",
            "\n",
            "  df_clean[col_name].fillna(mode,inplace=True)\n"
          ]
        },
        {
          "data": {
            "text/plain": [
              "Name                     0\n",
              "Url_to_Vacancy           0\n",
              "Company                  0\n",
              "Location                 0\n",
              "Type_of_Employment       0\n",
              "Age_category          1717\n",
              "Education_degree      1058\n",
              "Salary                   0\n",
              "Posting_Date             8\n",
              "Deadline_Date            8\n",
              "Skills                   0\n",
              "Month                    8\n",
              "Year                     8\n",
              "dtype: int64"
            ]
          },
          "execution_count": 99,
          "metadata": {},
          "output_type": "execute_result"
        }
      ],
      "source": [
        "fill_na_with_mode(\"Location\")\n",
        "df_clean.isna().sum()"
      ]
    },
    {
      "cell_type": "code",
      "execution_count": 100,
      "metadata": {},
      "outputs": [
        {
          "data": {
            "text/html": [
              "<div>\n",
              "<style scoped>\n",
              "    .dataframe tbody tr th:only-of-type {\n",
              "        vertical-align: middle;\n",
              "    }\n",
              "\n",
              "    .dataframe tbody tr th {\n",
              "        vertical-align: top;\n",
              "    }\n",
              "\n",
              "    .dataframe thead th {\n",
              "        text-align: right;\n",
              "    }\n",
              "</style>\n",
              "<table border=\"1\" class=\"dataframe\">\n",
              "  <thead>\n",
              "    <tr style=\"text-align: right;\">\n",
              "      <th></th>\n",
              "      <th>Name</th>\n",
              "      <th>Url_to_Vacancy</th>\n",
              "      <th>Company</th>\n",
              "      <th>Location</th>\n",
              "      <th>Type_of_Employment</th>\n",
              "      <th>Age_category</th>\n",
              "      <th>Education_degree</th>\n",
              "      <th>Salary</th>\n",
              "      <th>Posting_Date</th>\n",
              "      <th>Deadline_Date</th>\n",
              "      <th>Skills</th>\n",
              "      <th>Month</th>\n",
              "      <th>Year</th>\n",
              "    </tr>\n",
              "  </thead>\n",
              "  <tbody>\n",
              "    <tr>\n",
              "      <th>0</th>\n",
              "      <td>Mobil tətbiq üzrə məhsul mütəxəssisi</td>\n",
              "      <td>https://busy.az/vacancy/132205/mobil-tetbiq-uz...</td>\n",
              "      <td>189 Taxi</td>\n",
              "      <td>Bakı</td>\n",
              "      <td>Tam ştat (full time)</td>\n",
              "      <td>NaN</td>\n",
              "      <td>Ali</td>\n",
              "      <td>Razılaşma yolu ilə</td>\n",
              "      <td>2024-07-04</td>\n",
              "      <td>2024-07-18</td>\n",
              "      <td>software development</td>\n",
              "      <td>7.0</td>\n",
              "      <td>2024.0</td>\n",
              "    </tr>\n",
              "    <tr>\n",
              "      <th>0</th>\n",
              "      <td>Mobil tətbiq üzrə məhsul mütəxəssisi</td>\n",
              "      <td>https://busy.az/vacancy/132205/mobil-tetbiq-uz...</td>\n",
              "      <td>189 Taxi</td>\n",
              "      <td>Bakı</td>\n",
              "      <td>Tam ştat (full time)</td>\n",
              "      <td>NaN</td>\n",
              "      <td>Ali</td>\n",
              "      <td>Razılaşma yolu ilə</td>\n",
              "      <td>2024-07-04</td>\n",
              "      <td>2024-07-18</td>\n",
              "      <td>programming</td>\n",
              "      <td>7.0</td>\n",
              "      <td>2024.0</td>\n",
              "    </tr>\n",
              "    <tr>\n",
              "      <th>0</th>\n",
              "      <td>Mobil tətbiq üzrə məhsul mütəxəssisi</td>\n",
              "      <td>https://busy.az/vacancy/132205/mobil-tetbiq-uz...</td>\n",
              "      <td>189 Taxi</td>\n",
              "      <td>Bakı</td>\n",
              "      <td>Tam ştat (full time)</td>\n",
              "      <td>NaN</td>\n",
              "      <td>Ali</td>\n",
              "      <td>Razılaşma yolu ilə</td>\n",
              "      <td>2024-07-04</td>\n",
              "      <td>2024-07-18</td>\n",
              "      <td>mobile application</td>\n",
              "      <td>7.0</td>\n",
              "      <td>2024.0</td>\n",
              "    </tr>\n",
              "    <tr>\n",
              "      <th>0</th>\n",
              "      <td>Mobil tətbiq üzrə məhsul mütəxəssisi</td>\n",
              "      <td>https://busy.az/vacancy/132205/mobil-tetbiq-uz...</td>\n",
              "      <td>189 Taxi</td>\n",
              "      <td>Bakı</td>\n",
              "      <td>Tam ştat (full time)</td>\n",
              "      <td>NaN</td>\n",
              "      <td>Ali</td>\n",
              "      <td>Razılaşma yolu ilə</td>\n",
              "      <td>2024-07-04</td>\n",
              "      <td>2024-07-18</td>\n",
              "      <td>mobile development</td>\n",
              "      <td>7.0</td>\n",
              "      <td>2024.0</td>\n",
              "    </tr>\n",
              "    <tr>\n",
              "      <th>0</th>\n",
              "      <td>Mobil tətbiq üzrə məhsul mütəxəssisi</td>\n",
              "      <td>https://busy.az/vacancy/132205/mobil-tetbiq-uz...</td>\n",
              "      <td>189 Taxi</td>\n",
              "      <td>Bakı</td>\n",
              "      <td>Tam ştat (full time)</td>\n",
              "      <td>NaN</td>\n",
              "      <td>Ali</td>\n",
              "      <td>Razılaşma yolu ilə</td>\n",
              "      <td>2024-07-04</td>\n",
              "      <td>2024-07-18</td>\n",
              "      <td>mobile application development</td>\n",
              "      <td>7.0</td>\n",
              "      <td>2024.0</td>\n",
              "    </tr>\n",
              "    <tr>\n",
              "      <th>...</th>\n",
              "      <td>...</td>\n",
              "      <td>...</td>\n",
              "      <td>...</td>\n",
              "      <td>...</td>\n",
              "      <td>...</td>\n",
              "      <td>...</td>\n",
              "      <td>...</td>\n",
              "      <td>...</td>\n",
              "      <td>...</td>\n",
              "      <td>...</td>\n",
              "      <td>...</td>\n",
              "      <td>...</td>\n",
              "      <td>...</td>\n",
              "    </tr>\n",
              "    <tr>\n",
              "      <th>1794</th>\n",
              "      <td>Process/Production Engineer</td>\n",
              "      <td>https://busy.az/vacancy/6010/processproduction...</td>\n",
              "      <td>Caspian Investment and Development Corporation...</td>\n",
              "      <td>Bakı</td>\n",
              "      <td>Tam ştat (full time)</td>\n",
              "      <td>NaN</td>\n",
              "      <td>Ali</td>\n",
              "      <td>Razılaşma yolu ilə</td>\n",
              "      <td>2012-03-05</td>\n",
              "      <td>2012-04-04</td>\n",
              "      <td>software developer</td>\n",
              "      <td>3.0</td>\n",
              "      <td>2012.0</td>\n",
              "    </tr>\n",
              "    <tr>\n",
              "      <th>1795</th>\n",
              "      <td>Information and Communication Technology Assis...</td>\n",
              "      <td>https://busy.az/vacancy/6006/information-and-c...</td>\n",
              "      <td>Oilfield Company</td>\n",
              "      <td>Bakı</td>\n",
              "      <td>Tam ştat (full time)</td>\n",
              "      <td>NaN</td>\n",
              "      <td>Ali (bakalavr)</td>\n",
              "      <td>600 - 900</td>\n",
              "      <td>2012-03-05</td>\n",
              "      <td>2012-04-04</td>\n",
              "      <td>jQuery</td>\n",
              "      <td>3.0</td>\n",
              "      <td>2012.0</td>\n",
              "    </tr>\n",
              "    <tr>\n",
              "      <th>1795</th>\n",
              "      <td>Information and Communication Technology Assis...</td>\n",
              "      <td>https://busy.az/vacancy/6006/information-and-c...</td>\n",
              "      <td>Oilfield Company</td>\n",
              "      <td>Bakı</td>\n",
              "      <td>Tam ştat (full time)</td>\n",
              "      <td>NaN</td>\n",
              "      <td>Ali (bakalavr)</td>\n",
              "      <td>600 - 900</td>\n",
              "      <td>2012-03-05</td>\n",
              "      <td>2012-04-04</td>\n",
              "      <td>Microsoft Office</td>\n",
              "      <td>3.0</td>\n",
              "      <td>2012.0</td>\n",
              "    </tr>\n",
              "    <tr>\n",
              "      <th>1795</th>\n",
              "      <td>Information and Communication Technology Assis...</td>\n",
              "      <td>https://busy.az/vacancy/6006/information-and-c...</td>\n",
              "      <td>Oilfield Company</td>\n",
              "      <td>Bakı</td>\n",
              "      <td>Tam ştat (full time)</td>\n",
              "      <td>NaN</td>\n",
              "      <td>Ali (bakalavr)</td>\n",
              "      <td>600 - 900</td>\n",
              "      <td>2012-03-05</td>\n",
              "      <td>2012-04-04</td>\n",
              "      <td>Microsoft Excel</td>\n",
              "      <td>3.0</td>\n",
              "      <td>2012.0</td>\n",
              "    </tr>\n",
              "    <tr>\n",
              "      <th>1795</th>\n",
              "      <td>Information and Communication Technology Assis...</td>\n",
              "      <td>https://busy.az/vacancy/6006/information-and-c...</td>\n",
              "      <td>Oilfield Company</td>\n",
              "      <td>Bakı</td>\n",
              "      <td>Tam ştat (full time)</td>\n",
              "      <td>NaN</td>\n",
              "      <td>Ali (bakalavr)</td>\n",
              "      <td>600 - 900</td>\n",
              "      <td>2012-03-05</td>\n",
              "      <td>2012-04-04</td>\n",
              "      <td>Microsoft Word</td>\n",
              "      <td>3.0</td>\n",
              "      <td>2012.0</td>\n",
              "    </tr>\n",
              "  </tbody>\n",
              "</table>\n",
              "<p>12499 rows × 13 columns</p>\n",
              "</div>"
            ],
            "text/plain": [
              "                                                   Name  \\\n",
              "0                  Mobil tətbiq üzrə məhsul mütəxəssisi   \n",
              "0                  Mobil tətbiq üzrə məhsul mütəxəssisi   \n",
              "0                  Mobil tətbiq üzrə məhsul mütəxəssisi   \n",
              "0                  Mobil tətbiq üzrə məhsul mütəxəssisi   \n",
              "0                  Mobil tətbiq üzrə məhsul mütəxəssisi   \n",
              "...                                                 ...   \n",
              "1794                        Process/Production Engineer   \n",
              "1795  Information and Communication Technology Assis...   \n",
              "1795  Information and Communication Technology Assis...   \n",
              "1795  Information and Communication Technology Assis...   \n",
              "1795  Information and Communication Technology Assis...   \n",
              "\n",
              "                                         Url_to_Vacancy  \\\n",
              "0     https://busy.az/vacancy/132205/mobil-tetbiq-uz...   \n",
              "0     https://busy.az/vacancy/132205/mobil-tetbiq-uz...   \n",
              "0     https://busy.az/vacancy/132205/mobil-tetbiq-uz...   \n",
              "0     https://busy.az/vacancy/132205/mobil-tetbiq-uz...   \n",
              "0     https://busy.az/vacancy/132205/mobil-tetbiq-uz...   \n",
              "...                                                 ...   \n",
              "1794  https://busy.az/vacancy/6010/processproduction...   \n",
              "1795  https://busy.az/vacancy/6006/information-and-c...   \n",
              "1795  https://busy.az/vacancy/6006/information-and-c...   \n",
              "1795  https://busy.az/vacancy/6006/information-and-c...   \n",
              "1795  https://busy.az/vacancy/6006/information-and-c...   \n",
              "\n",
              "                                                Company Location  \\\n",
              "0                                              189 Taxi     Bakı   \n",
              "0                                              189 Taxi     Bakı   \n",
              "0                                              189 Taxi     Bakı   \n",
              "0                                              189 Taxi     Bakı   \n",
              "0                                              189 Taxi     Bakı   \n",
              "...                                                 ...      ...   \n",
              "1794  Caspian Investment and Development Corporation...     Bakı   \n",
              "1795                                   Oilfield Company     Bakı   \n",
              "1795                                   Oilfield Company     Bakı   \n",
              "1795                                   Oilfield Company     Bakı   \n",
              "1795                                   Oilfield Company     Bakı   \n",
              "\n",
              "        Type_of_Employment Age_category Education_degree              Salary  \\\n",
              "0     Tam ştat (full time)          NaN              Ali  Razılaşma yolu ilə   \n",
              "0     Tam ştat (full time)          NaN              Ali  Razılaşma yolu ilə   \n",
              "0     Tam ştat (full time)          NaN              Ali  Razılaşma yolu ilə   \n",
              "0     Tam ştat (full time)          NaN              Ali  Razılaşma yolu ilə   \n",
              "0     Tam ştat (full time)          NaN              Ali  Razılaşma yolu ilə   \n",
              "...                    ...          ...              ...                 ...   \n",
              "1794  Tam ştat (full time)          NaN              Ali  Razılaşma yolu ilə   \n",
              "1795  Tam ştat (full time)          NaN   Ali (bakalavr)           600 - 900   \n",
              "1795  Tam ştat (full time)          NaN   Ali (bakalavr)           600 - 900   \n",
              "1795  Tam ştat (full time)          NaN   Ali (bakalavr)           600 - 900   \n",
              "1795  Tam ştat (full time)          NaN   Ali (bakalavr)           600 - 900   \n",
              "\n",
              "     Posting_Date Deadline_Date                          Skills  Month    Year  \n",
              "0      2024-07-04    2024-07-18            software development    7.0  2024.0  \n",
              "0      2024-07-04    2024-07-18                     programming    7.0  2024.0  \n",
              "0      2024-07-04    2024-07-18              mobile application    7.0  2024.0  \n",
              "0      2024-07-04    2024-07-18              mobile development    7.0  2024.0  \n",
              "0      2024-07-04    2024-07-18  mobile application development    7.0  2024.0  \n",
              "...           ...           ...                             ...    ...     ...  \n",
              "1794   2012-03-05    2012-04-04              software developer    3.0  2012.0  \n",
              "1795   2012-03-05    2012-04-04                          jQuery    3.0  2012.0  \n",
              "1795   2012-03-05    2012-04-04                Microsoft Office    3.0  2012.0  \n",
              "1795   2012-03-05    2012-04-04                 Microsoft Excel    3.0  2012.0  \n",
              "1795   2012-03-05    2012-04-04                  Microsoft Word    3.0  2012.0  \n",
              "\n",
              "[12499 rows x 13 columns]"
            ]
          },
          "execution_count": 100,
          "metadata": {},
          "output_type": "execute_result"
        }
      ],
      "source": [
        "df_extended = df_clean.copy(deep=True)\n",
        "\n",
        "df_extended['Skills'] = df_clean['Skills'].str.split(', ').apply(lambda x: [item.strip() for item in x]) ## separate each word in skills\n",
        "df_extended = df_extended.explode('Skills') # Transform each element of a list-like to a row, replicating index values.\n",
        "\n",
        "df_extended"
      ]
    },
    {
      "cell_type": "code",
      "execution_count": 101,
      "metadata": {},
      "outputs": [
        {
          "data": {
            "text/html": [
              "<div>\n",
              "<style scoped>\n",
              "    .dataframe tbody tr th:only-of-type {\n",
              "        vertical-align: middle;\n",
              "    }\n",
              "\n",
              "    .dataframe tbody tr th {\n",
              "        vertical-align: top;\n",
              "    }\n",
              "\n",
              "    .dataframe thead th {\n",
              "        text-align: right;\n",
              "    }\n",
              "</style>\n",
              "<table border=\"1\" class=\"dataframe\">\n",
              "  <thead>\n",
              "    <tr style=\"text-align: right;\">\n",
              "      <th></th>\n",
              "      <th>Skills</th>\n",
              "    </tr>\n",
              "    <tr>\n",
              "      <th>Count</th>\n",
              "      <th></th>\n",
              "    </tr>\n",
              "  </thead>\n",
              "  <tbody>\n",
              "    <tr>\n",
              "      <th>181</th>\n",
              "      <td>(CSS, HTML, JavaScript)</td>\n",
              "    </tr>\n",
              "    <tr>\n",
              "      <th>95</th>\n",
              "      <td>(CSS, HTML, front-end development)</td>\n",
              "    </tr>\n",
              "    <tr>\n",
              "      <th>78</th>\n",
              "      <td>(mobile application, mobile application develo...</td>\n",
              "    </tr>\n",
              "    <tr>\n",
              "      <th>75</th>\n",
              "      <td>(CSS, JavaScript, front-end development)</td>\n",
              "    </tr>\n",
              "    <tr>\n",
              "      <th>74</th>\n",
              "      <td>(CSS, HTML, jQuery)</td>\n",
              "    </tr>\n",
              "    <tr>\n",
              "      <th>70</th>\n",
              "      <td>(HTML, JavaScript, front-end development)</td>\n",
              "    </tr>\n",
              "    <tr>\n",
              "      <th>68</th>\n",
              "      <td>(HTML, JavaScript, jQuery)</td>\n",
              "    </tr>\n",
              "    <tr>\n",
              "      <th>63</th>\n",
              "      <td>(CSS, JavaScript, jQuery)</td>\n",
              "    </tr>\n",
              "    <tr>\n",
              "      <th>57</th>\n",
              "      <td>(Android development, mobile application, mobi...</td>\n",
              "    </tr>\n",
              "    <tr>\n",
              "      <th>50</th>\n",
              "      <td>(iOS development, mobile application, mobile a...</td>\n",
              "    </tr>\n",
              "  </tbody>\n",
              "</table>\n",
              "</div>"
            ],
            "text/plain": [
              "                                                  Skills\n",
              "Count                                                   \n",
              "181                              (CSS, HTML, JavaScript)\n",
              "95                    (CSS, HTML, front-end development)\n",
              "78     (mobile application, mobile application develo...\n",
              "75              (CSS, JavaScript, front-end development)\n",
              "74                                   (CSS, HTML, jQuery)\n",
              "70             (HTML, JavaScript, front-end development)\n",
              "68                            (HTML, JavaScript, jQuery)\n",
              "63                             (CSS, JavaScript, jQuery)\n",
              "57     (Android development, mobile application, mobi...\n",
              "50     (iOS development, mobile application, mobile a..."
            ]
          },
          "execution_count": 101,
          "metadata": {},
          "output_type": "execute_result"
        }
      ],
      "source": [
        "skills_to_remove = [\"proqram təminatı\",\"proqramlaşdırma\",\"programming\",\"proqramçı\",\"programmer\",\"программирование\",\"software development\"]\n",
        "grouped_skills = df_clean.groupby(df_clean.index)['Skills'].apply(lambda x: ', '.join(x).split(', ')).reset_index(drop=True)\n",
        "\n",
        "pair_ctr = Counter()\n",
        "\n",
        "for skills in grouped_skills:\n",
        "    filtered_skills = [skill for skill in skills if skill not in skills_to_remove]\n",
        "    if len(filtered_skills) > 1:  \n",
        "        pair_ctr.update(combinations(sorted(filtered_skills), 3))\n",
        "\n",
        "pair_skill_df = pd.DataFrame(pair_ctr.most_common(10),columns=[\"Skills\",\"Count\"])\n",
        "pair_skill_df.set_index(\"Count\",inplace=True)\n",
        "\n",
        "pair_skill_df"
      ]
    },
    {
      "cell_type": "markdown",
      "metadata": {
        "id": "UNmT9NBs-LHZ"
      },
      "source": [
        "# Visualization"
      ]
    },
    {
      "cell_type": "code",
      "execution_count": 102,
      "metadata": {
        "id": "jtqP69LA-LHZ"
      },
      "outputs": [],
      "source": [
        "my_palatte = [\"#FFA38F\",\"#E9FF97\",\"#FFD18E\",\"#FF7EE2\",\"#9CDBA6\",\"#50B498\",\"#468585\",\"#5A639C\",\"#E2BBE9\"]"
      ]
    },
    {
      "cell_type": "code",
      "execution_count": 116,
      "metadata": {
        "id": "47DOYiFg-LHZ"
      },
      "outputs": [],
      "source": [
        "def addlabels(x,y):\n",
        "    for i in range(len(x)):\n",
        "        plt.text(i, y[i], y[i], ha = 'center')\n",
        "\n",
        "# ---------------------------------------------------\n",
        "def show_piechart(data,column,fig_size = (10,8)):\n",
        "    data_col = data[column].value_counts()\n",
        "\n",
        "    plt.figure(figsize=fig_size)\n",
        "    plt.pie(x=data_col.values, labels=data_col.index, autopct='%1.1f%%',colors=my_palatte)\n",
        "    plt.title(f'Distribution of {column.replace(\"_\",\" \")}')\n",
        "    plt.show()\n",
        "\n",
        "\n",
        "# ------------------------------------------------------\n",
        "def show_countplot(data, column,top_n = 0):\n",
        "    top_n = data[column].nunique() if top_n == 0 else top_n\n",
        "    data_col = data[column].value_counts().head(top_n)\n",
        "    print(top_n)\n",
        "\n",
        "    addlabels(data_col.index,data_col.values)\n",
        "    sns.countplot(x=data[column], order=data_col.index, hue=data[column],palette=\"pastel\")\n",
        "    plt.title(f'Distribution of {column.replace(\"_\",\" \")}')\n",
        "\n",
        "    plt.show()\n",
        "    \n",
        "# ------------------------------------------------------\n",
        "def show_plot(data,x,y):\n",
        "    plt.plot(data[x], data[y], marker='o', linestyle='-')\n",
        "    plt.xlabel(x)\n",
        "    plt.show()\n",
        "\n",
        "    "
      ]
    },
    {
      "cell_type": "code",
      "execution_count": 104,
      "metadata": {
        "colab": {
          "base_uri": "https://localhost:8080/",
          "height": 675
        },
        "id": "Z8VWcTUC-LHZ",
        "outputId": "660f21e9-1a03-4555-8b9c-0f4971a0c9a7"
      },
      "outputs": [
        {
          "data": {
            "image/png": "[encoded data removed]",
            "text/plain": [
              "<Figure size 1000x800 with 1 Axes>"
            ]
          },
          "metadata": {},
          "output_type": "display_data"
        }
      ],
      "source": [
        "show_piechart(df_clean,\"Education_degree\")"
      ]
    },
    {
      "cell_type": "code",
      "execution_count": 105,
      "metadata": {
        "colab": {
          "base_uri": "https://localhost:8080/",
          "height": 675
        },
        "id": "FvUul4bi-LHa",
        "outputId": "54620ee1-044f-4d94-c153-1be75dc7e34b"
      },
      "outputs": [
        {
          "data": {
            "image/png": "[encoded data removed]",
            "text/plain": [
              "<Figure size 1000x800 with 1 Axes>"
            ]
          },
          "metadata": {},
          "output_type": "display_data"
        }
      ],
      "source": [
        "show_piechart(df_clean,\"Age_category\")"
      ]
    },
    {
      "cell_type": "code",
      "execution_count": 106,
      "metadata": {
        "colab": {
          "base_uri": "https://localhost:8080/",
          "height": 666
        },
        "id": "--q9wklr-LHa",
        "outputId": "7c86f4da-20a4-418a-d03a-ca54e8fd0606"
      },
      "outputs": [
        {
          "name": "stdout",
          "output_type": "stream",
          "text": [
            "9\n"
          ]
        },
        {
          "data": {
            "image/png": "[encoded data removed]",
            "text/plain": [
              "<Figure size 1800x800 with 1 Axes>"
            ]
          },
          "metadata": {},
          "output_type": "display_data"
        }
      ],
      "source": [
        "show_countplot(df_clean,\"Location\")"
      ]
    },
    {
      "cell_type": "code",
      "execution_count": 107,
      "metadata": {
        "colab": {
          "base_uri": "https://localhost:8080/",
          "height": 701
        },
        "id": "v4vvt1k0-LHa",
        "outputId": "e1a6d7f3-4fc5-4691-a2b2-cc5bfe6cfe97"
      },
      "outputs": [
        {
          "name": "stdout",
          "output_type": "stream",
          "text": [
            "3\n"
          ]
        },
        {
          "data": {
            "image/png": "[encoded data removed]",
            "text/plain": [
              "<Figure size 1800x800 with 1 Axes>"
            ]
          },
          "metadata": {},
          "output_type": "display_data"
        }
      ],
      "source": [
        "show_countplot(df_clean,\"Type_of_Employment\")"
      ]
    },
    {
      "cell_type": "code",
      "execution_count": 108,
      "metadata": {
        "colab": {
          "base_uri": "https://localhost:8080/",
          "height": 834
        },
        "id": "Qc8lXCF_-LHa",
        "outputId": "847429aa-b7a9-4e2b-e10d-ae0c5d9084c0"
      },
      "outputs": [
        {
          "name": "stdout",
          "output_type": "stream",
          "text": [
            "10\n"
          ]
        },
        {
          "data": {
            "image/png": "[encoded data removed]",
            "text/plain": [
              "<Figure size 1800x800 with 1 Axes>"
            ]
          },
          "metadata": {},
          "output_type": "display_data"
        }
      ],
      "source": [
        "show_countplot(df_clean,\"Salary\",10)"
      ]
    },
    {
      "cell_type": "code",
      "execution_count": 109,
      "metadata": {
        "colab": {
          "base_uri": "https://localhost:8080/",
          "height": 778
        },
        "id": "D-9_5sRSDxpA",
        "outputId": "b996d7d3-4b00-4c73-edb0-a20aac2f676c"
      },
      "outputs": [
        {
          "name": "stdout",
          "output_type": "stream",
          "text": [
            "10\n"
          ]
        },
        {
          "data": {
            "image/png": "[encoded data removed]",
            "text/plain": [
              "<Figure size 1800x800 with 1 Axes>"
            ]
          },
          "metadata": {},
          "output_type": "display_data"
        }
      ],
      "source": [
        "top_10_skills = df_extended['Skills'].value_counts().drop(skills_to_remove).head(10)\n",
        "df_clean_filtered = df_extended[df_extended['Skills'].isin(top_10_skills.index)]\n",
        "\n",
        "plt.xticks(rotation=90)\n",
        "show_countplot(df_clean_filtered,\"Skills\",10)"
      ]
    },
    {
      "cell_type": "code",
      "execution_count": 117,
      "metadata": {},
      "outputs": [
        {
          "data": {
            "image/png": "[encoded data removed]",
            "text/plain": [
              "<Figure size 1800x800 with 1 Axes>"
            ]
          },
          "metadata": {},
          "output_type": "display_data"
        }
      ],
      "source": [
        "df_grouped = df_clean.groupby(\"Posting_Date\").size().reset_index(name='Count')\n",
        "show_plot(df_grouped,\"Posting_Date\",\"Count\")"
      ]
    },
    {
      "cell_type": "code",
      "execution_count": 112,
      "metadata": {},
      "outputs": [
        {
          "data": {
            "text/html": [
              "<div>\n",
              "<style scoped>\n",
              "    .dataframe tbody tr th:only-of-type {\n",
              "        vertical-align: middle;\n",
              "    }\n",
              "\n",
              "    .dataframe tbody tr th {\n",
              "        vertical-align: top;\n",
              "    }\n",
              "\n",
              "    .dataframe thead th {\n",
              "        text-align: right;\n",
              "    }\n",
              "</style>\n",
              "<table border=\"1\" class=\"dataframe\">\n",
              "  <thead>\n",
              "    <tr style=\"text-align: right;\">\n",
              "      <th></th>\n",
              "      <th>Name</th>\n",
              "      <th>Url_to_Vacancy</th>\n",
              "      <th>Company</th>\n",
              "      <th>Location</th>\n",
              "      <th>Type_of_Employment</th>\n",
              "      <th>Age_category</th>\n",
              "      <th>Education_degree</th>\n",
              "      <th>Salary</th>\n",
              "      <th>Posting_Date</th>\n",
              "      <th>Deadline_Date</th>\n",
              "      <th>Skills</th>\n",
              "      <th>Month</th>\n",
              "      <th>Year</th>\n",
              "    </tr>\n",
              "  </thead>\n",
              "  <tbody>\n",
              "    <tr>\n",
              "      <th>755</th>\n",
              "      <td>Senior Penetration Tester</td>\n",
              "      <td>https://busy.az/vacancy/84343/senior-penetrati...</td>\n",
              "      <td>Cyberpoint</td>\n",
              "      <td>Bakı</td>\n",
              "      <td>Tam ştat (full time)</td>\n",
              "      <td>NaN</td>\n",
              "      <td>Ali</td>\n",
              "      <td>Razılaşma yolu ilə</td>\n",
              "      <td>2022-07-03</td>\n",
              "      <td>2022-08-03</td>\n",
              "      <td>software development, proqramlaşdırma, proqram...</td>\n",
              "      <td>7.0</td>\n",
              "      <td>2022.0</td>\n",
              "    </tr>\n",
              "    <tr>\n",
              "      <th>756</th>\n",
              "      <td>Biznes analitika üzrə Baş mütəxəssis (Proqram ...</td>\n",
              "      <td>https://busy.az/vacancy/84340/biznes-analitika...</td>\n",
              "      <td>ABB ASC</td>\n",
              "      <td>Bakı</td>\n",
              "      <td>Tam ştat (full time)</td>\n",
              "      <td>NaN</td>\n",
              "      <td>Ali</td>\n",
              "      <td>Razılaşma yolu ilə</td>\n",
              "      <td>2022-07-03</td>\n",
              "      <td>2022-08-03</td>\n",
              "      <td>software development, programming, proqram təm...</td>\n",
              "      <td>7.0</td>\n",
              "      <td>2022.0</td>\n",
              "    </tr>\n",
              "    <tr>\n",
              "      <th>757</th>\n",
              "      <td>Android proqramçı</td>\n",
              "      <td>https://busy.az/vacancy/84339/android-proqramci</td>\n",
              "      <td>ABB ASC</td>\n",
              "      <td>Bakı</td>\n",
              "      <td>Tam ştat (full time)</td>\n",
              "      <td>NaN</td>\n",
              "      <td>NaN</td>\n",
              "      <td>Razılaşma yolu ilə</td>\n",
              "      <td>2022-07-03</td>\n",
              "      <td>2022-08-03</td>\n",
              "      <td>software development, programming, proqram təm...</td>\n",
              "      <td>7.0</td>\n",
              "      <td>2022.0</td>\n",
              "    </tr>\n",
              "    <tr>\n",
              "      <th>758</th>\n",
              "      <td>Fullstack Seni̇or Laravel Proqramçı</td>\n",
              "      <td>https://busy.az/vacancy/84337/fullstack-senior...</td>\n",
              "      <td>Innovative Business Products</td>\n",
              "      <td>Bakı</td>\n",
              "      <td>Tam ştat (full time)</td>\n",
              "      <td>NaN</td>\n",
              "      <td>NaN</td>\n",
              "      <td>4000 - 5000</td>\n",
              "      <td>2022-07-03</td>\n",
              "      <td>2022-08-03</td>\n",
              "      <td>software development, programming, proqram təm...</td>\n",
              "      <td>7.0</td>\n",
              "      <td>2022.0</td>\n",
              "    </tr>\n",
              "    <tr>\n",
              "      <th>759</th>\n",
              "      <td>Proqram təminatının testləşdirilməsi üzrə mühə...</td>\n",
              "      <td>https://busy.az/vacancy/84300/proqram-teminati...</td>\n",
              "      <td>ABB ASC</td>\n",
              "      <td>Bakı</td>\n",
              "      <td>Tam ştat (full time)</td>\n",
              "      <td>NaN</td>\n",
              "      <td>Ali</td>\n",
              "      <td>Razılaşma yolu ilə</td>\n",
              "      <td>2022-07-03</td>\n",
              "      <td>2022-08-03</td>\n",
              "      <td>Oracle, Mysql, proqramlaşdırma, proqram təmina...</td>\n",
              "      <td>7.0</td>\n",
              "      <td>2022.0</td>\n",
              "    </tr>\n",
              "    <tr>\n",
              "      <th>760</th>\n",
              "      <td>Flutter Developer</td>\n",
              "      <td>https://busy.az/vacancy/84282/flutter-developer</td>\n",
              "      <td>GTSolutions</td>\n",
              "      <td>Bakı</td>\n",
              "      <td>Tam ştat (full time)</td>\n",
              "      <td>NaN</td>\n",
              "      <td>NaN</td>\n",
              "      <td>800 - 1200</td>\n",
              "      <td>2022-07-03</td>\n",
              "      <td>2022-08-03</td>\n",
              "      <td>software development, programming, proqram təm...</td>\n",
              "      <td>7.0</td>\n",
              "      <td>2022.0</td>\n",
              "    </tr>\n",
              "    <tr>\n",
              "      <th>761</th>\n",
              "      <td>Senior Software Engineer (Java)</td>\n",
              "      <td>https://busy.az/vacancy/84281/senior-software-...</td>\n",
              "      <td>Digital Umbrella</td>\n",
              "      <td>Bakı</td>\n",
              "      <td>Tam ştat (full time)</td>\n",
              "      <td>NaN</td>\n",
              "      <td>NaN</td>\n",
              "      <td>Razılaşma yolu ilə</td>\n",
              "      <td>2022-07-03</td>\n",
              "      <td>2022-08-03</td>\n",
              "      <td>software development, programming, proqram təm...</td>\n",
              "      <td>7.0</td>\n",
              "      <td>2022.0</td>\n",
              "    </tr>\n",
              "    <tr>\n",
              "      <th>762</th>\n",
              "      <td>Avtomatlaşdırılmış əməliyyat sistemi üzrə proq...</td>\n",
              "      <td>https://busy.az/vacancy/84278/avtomatlasdirilm...</td>\n",
              "      <td>ABB ASC</td>\n",
              "      <td>Bakı</td>\n",
              "      <td>Tam ştat (full time)</td>\n",
              "      <td>NaN</td>\n",
              "      <td>Ali</td>\n",
              "      <td>Razılaşma yolu ilə</td>\n",
              "      <td>2022-07-03</td>\n",
              "      <td>2022-08-03</td>\n",
              "      <td>SQL, JavaScript, OOP, software development, pr...</td>\n",
              "      <td>7.0</td>\n",
              "      <td>2022.0</td>\n",
              "    </tr>\n",
              "    <tr>\n",
              "      <th>763</th>\n",
              "      <td>Front-end üzrə proqramçı (Rəqəmsal İnnovasiyal...</td>\n",
              "      <td>https://busy.az/vacancy/84274/front-end-uzre-p...</td>\n",
              "      <td>ABB ASC</td>\n",
              "      <td>Bakı</td>\n",
              "      <td>Tam ştat (full time)</td>\n",
              "      <td>NaN</td>\n",
              "      <td>NaN</td>\n",
              "      <td>Razılaşma yolu ilə</td>\n",
              "      <td>2022-07-03</td>\n",
              "      <td>2022-08-03</td>\n",
              "      <td>software development, programming, proqram təm...</td>\n",
              "      <td>7.0</td>\n",
              "      <td>2022.0</td>\n",
              "    </tr>\n",
              "    <tr>\n",
              "      <th>764</th>\n",
              "      <td>Vue.js Developer</td>\n",
              "      <td>https://busy.az/vacancy/84272/vuejs-developer</td>\n",
              "      <td>Digital Umbrella</td>\n",
              "      <td>Bakı</td>\n",
              "      <td>Tam ştat (full time)</td>\n",
              "      <td>NaN</td>\n",
              "      <td>NaN</td>\n",
              "      <td>Razılaşma yolu ilə</td>\n",
              "      <td>2022-07-03</td>\n",
              "      <td>2022-08-03</td>\n",
              "      <td>software development, programming, proqram təm...</td>\n",
              "      <td>7.0</td>\n",
              "      <td>2022.0</td>\n",
              "    </tr>\n",
              "    <tr>\n",
              "      <th>765</th>\n",
              "      <td>Back-end üzrə proqramçı</td>\n",
              "      <td>https://busy.az/vacancy/84270/back-end-uzre-pr...</td>\n",
              "      <td>ABB ASC</td>\n",
              "      <td>Bakı</td>\n",
              "      <td>Tam ştat (full time)</td>\n",
              "      <td>NaN</td>\n",
              "      <td>NaN</td>\n",
              "      <td>Razılaşma yolu ilə</td>\n",
              "      <td>2022-07-03</td>\n",
              "      <td>2022-08-03</td>\n",
              "      <td>software development, programming, proqram təm...</td>\n",
              "      <td>7.0</td>\n",
              "      <td>2022.0</td>\n",
              "    </tr>\n",
              "    <tr>\n",
              "      <th>766</th>\n",
              "      <td>Front-end üzrə proqramçı (Proqram təminatının ...</td>\n",
              "      <td>https://busy.az/vacancy/84265/front-end-uzre-p...</td>\n",
              "      <td>ABB ASC</td>\n",
              "      <td>Bakı</td>\n",
              "      <td>Tam ştat (full time)</td>\n",
              "      <td>NaN</td>\n",
              "      <td>Ali</td>\n",
              "      <td>Razılaşma yolu ilə</td>\n",
              "      <td>2022-07-03</td>\n",
              "      <td>2022-08-03</td>\n",
              "      <td>HTML, OOP, JavaScript, CSS, XML, JSON, front-e...</td>\n",
              "      <td>7.0</td>\n",
              "      <td>2022.0</td>\n",
              "    </tr>\n",
              "    <tr>\n",
              "      <th>767</th>\n",
              "      <td>DevSecOps Engineer</td>\n",
              "      <td>https://busy.az/vacancy/84263/devsecops-engineer</td>\n",
              "      <td>Cyberpoint</td>\n",
              "      <td>Bakı</td>\n",
              "      <td>Tam ştat (full time)</td>\n",
              "      <td>NaN</td>\n",
              "      <td>NaN</td>\n",
              "      <td>Razılaşma yolu ilə</td>\n",
              "      <td>2022-07-03</td>\n",
              "      <td>2022-08-03</td>\n",
              "      <td>software development, DevOps, programming, pro...</td>\n",
              "      <td>7.0</td>\n",
              "      <td>2022.0</td>\n",
              "    </tr>\n",
              "    <tr>\n",
              "      <th>768</th>\n",
              "      <td>Proqram təminatının testləşdirilməsi üzrə mühə...</td>\n",
              "      <td>https://busy.az/vacancy/84259/proqram-teminati...</td>\n",
              "      <td>ABB ASC</td>\n",
              "      <td>Bakı</td>\n",
              "      <td>Tam ştat (full time)</td>\n",
              "      <td>NaN</td>\n",
              "      <td>Ali</td>\n",
              "      <td>Razılaşma yolu ilə</td>\n",
              "      <td>2022-07-03</td>\n",
              "      <td>2022-08-03</td>\n",
              "      <td>Oracle, Mysql, proqram təminatı, programming, ...</td>\n",
              "      <td>7.0</td>\n",
              "      <td>2022.0</td>\n",
              "    </tr>\n",
              "    <tr>\n",
              "      <th>769</th>\n",
              "      <td>Front End Developer</td>\n",
              "      <td>https://busy.az/vacancy/84256/front-end-developer</td>\n",
              "      <td>Dövlət qurumu</td>\n",
              "      <td>Bakı</td>\n",
              "      <td>Tam ştat (full time)</td>\n",
              "      <td>NaN</td>\n",
              "      <td>Ali</td>\n",
              "      <td>Razılaşma yolu ilə</td>\n",
              "      <td>2022-07-03</td>\n",
              "      <td>2022-08-03</td>\n",
              "      <td>software development, programming, proqram təm...</td>\n",
              "      <td>7.0</td>\n",
              "      <td>2022.0</td>\n",
              "    </tr>\n",
              "  </tbody>\n",
              "</table>\n",
              "</div>"
            ],
            "text/plain": [
              "                                                  Name  \\\n",
              "755                          Senior Penetration Tester   \n",
              "756  Biznes analitika üzrə Baş mütəxəssis (Proqram ...   \n",
              "757                                  Android proqramçı   \n",
              "758                Fullstack Seni̇or Laravel Proqramçı   \n",
              "759  Proqram təminatının testləşdirilməsi üzrə mühə...   \n",
              "760                                  Flutter Developer   \n",
              "761                    Senior Software Engineer (Java)   \n",
              "762  Avtomatlaşdırılmış əməliyyat sistemi üzrə proq...   \n",
              "763  Front-end üzrə proqramçı (Rəqəmsal İnnovasiyal...   \n",
              "764                                   Vue.js Developer   \n",
              "765                            Back-end üzrə proqramçı   \n",
              "766  Front-end üzrə proqramçı (Proqram təminatının ...   \n",
              "767                                 DevSecOps Engineer   \n",
              "768  Proqram təminatının testləşdirilməsi üzrə mühə...   \n",
              "769                                Front End Developer   \n",
              "\n",
              "                                        Url_to_Vacancy  \\\n",
              "755  https://busy.az/vacancy/84343/senior-penetrati...   \n",
              "756  https://busy.az/vacancy/84340/biznes-analitika...   \n",
              "757    https://busy.az/vacancy/84339/android-proqramci   \n",
              "758  https://busy.az/vacancy/84337/fullstack-senior...   \n",
              "759  https://busy.az/vacancy/84300/proqram-teminati...   \n",
              "760    https://busy.az/vacancy/84282/flutter-developer   \n",
              "761  https://busy.az/vacancy/84281/senior-software-...   \n",
              "762  https://busy.az/vacancy/84278/avtomatlasdirilm...   \n",
              "763  https://busy.az/vacancy/84274/front-end-uzre-p...   \n",
              "764      https://busy.az/vacancy/84272/vuejs-developer   \n",
              "765  https://busy.az/vacancy/84270/back-end-uzre-pr...   \n",
              "766  https://busy.az/vacancy/84265/front-end-uzre-p...   \n",
              "767   https://busy.az/vacancy/84263/devsecops-engineer   \n",
              "768  https://busy.az/vacancy/84259/proqram-teminati...   \n",
              "769  https://busy.az/vacancy/84256/front-end-developer   \n",
              "\n",
              "                          Company Location    Type_of_Employment Age_category  \\\n",
              "755                    Cyberpoint     Bakı  Tam ştat (full time)          NaN   \n",
              "756                       ABB ASC     Bakı  Tam ştat (full time)          NaN   \n",
              "757                       ABB ASC     Bakı  Tam ştat (full time)          NaN   \n",
              "758  Innovative Business Products     Bakı  Tam ştat (full time)          NaN   \n",
              "759                       ABB ASC     Bakı  Tam ştat (full time)          NaN   \n",
              "760                   GTSolutions     Bakı  Tam ştat (full time)          NaN   \n",
              "761              Digital Umbrella     Bakı  Tam ştat (full time)          NaN   \n",
              "762                       ABB ASC     Bakı  Tam ştat (full time)          NaN   \n",
              "763                       ABB ASC     Bakı  Tam ştat (full time)          NaN   \n",
              "764              Digital Umbrella     Bakı  Tam ştat (full time)          NaN   \n",
              "765                       ABB ASC     Bakı  Tam ştat (full time)          NaN   \n",
              "766                       ABB ASC     Bakı  Tam ştat (full time)          NaN   \n",
              "767                    Cyberpoint     Bakı  Tam ştat (full time)          NaN   \n",
              "768                       ABB ASC     Bakı  Tam ştat (full time)          NaN   \n",
              "769                 Dövlət qurumu     Bakı  Tam ştat (full time)          NaN   \n",
              "\n",
              "    Education_degree              Salary Posting_Date Deadline_Date  \\\n",
              "755              Ali  Razılaşma yolu ilə   2022-07-03    2022-08-03   \n",
              "756              Ali  Razılaşma yolu ilə   2022-07-03    2022-08-03   \n",
              "757              NaN  Razılaşma yolu ilə   2022-07-03    2022-08-03   \n",
              "758              NaN         4000 - 5000   2022-07-03    2022-08-03   \n",
              "759              Ali  Razılaşma yolu ilə   2022-07-03    2022-08-03   \n",
              "760              NaN          800 - 1200   2022-07-03    2022-08-03   \n",
              "761              NaN  Razılaşma yolu ilə   2022-07-03    2022-08-03   \n",
              "762              Ali  Razılaşma yolu ilə   2022-07-03    2022-08-03   \n",
              "763              NaN  Razılaşma yolu ilə   2022-07-03    2022-08-03   \n",
              "764              NaN  Razılaşma yolu ilə   2022-07-03    2022-08-03   \n",
              "765              NaN  Razılaşma yolu ilə   2022-07-03    2022-08-03   \n",
              "766              Ali  Razılaşma yolu ilə   2022-07-03    2022-08-03   \n",
              "767              NaN  Razılaşma yolu ilə   2022-07-03    2022-08-03   \n",
              "768              Ali  Razılaşma yolu ilə   2022-07-03    2022-08-03   \n",
              "769              Ali  Razılaşma yolu ilə   2022-07-03    2022-08-03   \n",
              "\n",
              "                                                Skills  Month    Year  \n",
              "755  software development, proqramlaşdırma, proqram...    7.0  2022.0  \n",
              "756  software development, programming, proqram təm...    7.0  2022.0  \n",
              "757  software development, programming, proqram təm...    7.0  2022.0  \n",
              "758  software development, programming, proqram təm...    7.0  2022.0  \n",
              "759  Oracle, Mysql, proqramlaşdırma, proqram təmina...    7.0  2022.0  \n",
              "760  software development, programming, proqram təm...    7.0  2022.0  \n",
              "761  software development, programming, proqram təm...    7.0  2022.0  \n",
              "762  SQL, JavaScript, OOP, software development, pr...    7.0  2022.0  \n",
              "763  software development, programming, proqram təm...    7.0  2022.0  \n",
              "764  software development, programming, proqram təm...    7.0  2022.0  \n",
              "765  software development, programming, proqram təm...    7.0  2022.0  \n",
              "766  HTML, OOP, JavaScript, CSS, XML, JSON, front-e...    7.0  2022.0  \n",
              "767  software development, DevOps, programming, pro...    7.0  2022.0  \n",
              "768  Oracle, Mysql, proqram təminatı, programming, ...    7.0  2022.0  \n",
              "769  software development, programming, proqram təm...    7.0  2022.0  "
            ]
          },
          "execution_count": 112,
          "metadata": {},
          "output_type": "execute_result"
        }
      ],
      "source": [
        "id_max = df_grouped[\"Count\"].idxmax()\n",
        "df_grouped.iloc[id_max]\n",
        "\n",
        "df_clean[df_clean[\"Posting_Date\"]==df_grouped.iloc[id_max][\"Posting_Date\"]]"
      ]
    },
    {
      "cell_type": "code",
      "execution_count": 118,
      "metadata": {},
      "outputs": [
        {
          "data": {
            "image/png": "[encoded data removed]",
            "text/plain": [
              "<Figure size 1800x800 with 1 Axes>"
            ]
          },
          "metadata": {},
          "output_type": "display_data"
        }
      ],
      "source": [
        "df_grouped = df_clean.groupby(\"Month\").size().reset_index(name='Count')\n",
        "show_plot(df_grouped,\"Month\",\"Count\")"
      ]
    },
    {
      "cell_type": "code",
      "execution_count": 119,
      "metadata": {},
      "outputs": [
        {
          "data": {
            "image/png": "[encoded data removed]",
            "text/plain": [
              "<Figure size 1800x800 with 1 Axes>"
            ]
          },
          "metadata": {},
          "output_type": "display_data"
        }
      ],
      "source": [
        "df_grouped = df_clean.groupby(\"Year\").size().reset_index(name='Count')\n",
        "show_plot(df_grouped,\"Year\",\"Count\")"
      ]
    },
    {
      "cell_type": "code",
      "execution_count": null,
      "metadata": {},
      "outputs": [],
      "source": []
    }
  ],
  "metadata": {
    "colab": {
      "provenance": []
    },
    "kernelspec": {
      "display_name": ".venv",
      "language": "python",
      "name": "python3"
    },
    "language_info": {
      "codemirror_mode": {
        "name": "ipython",
        "version": 3
      },
      "file_extension": ".py",
      "mimetype": "text/x-python",
      "name": "python",
      "nbconvert_exporter": "python",
      "pygments_lexer": "ipython3",
      "version": "3.12.4"
    }
  },
  "nbformat": 4,
  "nbformat_minor": 0
}
